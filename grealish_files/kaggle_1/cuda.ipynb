{
 "cells": [
  {
   "cell_type": "code",
   "execution_count": 2,
   "metadata": {},
   "outputs": [
    {
     "name": "stdout",
     "output_type": "stream",
     "text": [
      "Device ID: 0, Name: NVIDIA GeForce RTX 2080 Ti, Memory: 11011.5 MB\n",
      "Device ID: 1, Name: NVIDIA GeForce RTX 2080 Ti, Memory: 11011.5 MB\n",
      "Device ID: 2, Name: NVIDIA GeForce RTX 2080 Ti, Memory: 11011.5 MB\n",
      "Device ID: 3, Name: NVIDIA GeForce RTX 2080 Ti, Memory: 11011.5 MB\n",
      "Device ID: 4, Name: NVIDIA GeForce RTX 2080 Ti, Memory: 11011.5 MB\n",
      "Device ID: 5, Name: NVIDIA GeForce RTX 2080 Ti, Memory: 11011.5 MB\n"
     ]
    }
   ],
   "source": [
    "import os\n",
    "os.environ[\"CUDA_VISIBLE_DEVICES\"] = \"0,1,2,3,4,5,6\"\n",
    "import pycuda.driver as cuda\n",
    "import pycuda.autoinit\n",
    "\n",
    "def list_cuda_devices():\n",
    "    cuda.init()\n",
    "    device_count = cuda.Device.count()\n",
    "    devices = []\n",
    "    for i in range(device_count):\n",
    "        device = cuda.Device(i)\n",
    "        devices.append({\n",
    "            'id': i,\n",
    "            'name': device.name(),\n",
    "            'memory': device.total_memory()\n",
    "        })\n",
    "    return devices\n",
    "\n",
    "devices = list_cuda_devices()\n",
    "for device in devices:\n",
    "    print(f\"Device ID: {device['id']}, Name: {device['name']}, Memory: {device['memory'] / (1024**2)} MB\")\n"
   ]
  }
 ],
 "metadata": {
  "kernelspec": {
   "display_name": "autogluon",
   "language": "python",
   "name": "python3"
  },
  "language_info": {
   "codemirror_mode": {
    "name": "ipython",
    "version": 3
   },
   "file_extension": ".py",
   "mimetype": "text/x-python",
   "name": "python",
   "nbconvert_exporter": "python",
   "pygments_lexer": "ipython3",
   "version": "3.10.14"
  }
 },
 "nbformat": 4,
 "nbformat_minor": 2
}
