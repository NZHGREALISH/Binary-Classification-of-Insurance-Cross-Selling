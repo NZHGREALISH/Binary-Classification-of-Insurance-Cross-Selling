{
 "cells": [
  {
   "cell_type": "code",
   "execution_count": 1,
   "id": "000902d6-c413-4e9e-9672-cc4af8f83f27",
   "metadata": {},
   "outputs": [],
   "source": [
    "import numpy as np \n",
    "import pandas as pd \n",
    "from sklearn.preprocessing import MinMaxScaler\n",
    "import warnings\n",
    "\n",
    "# Ignore all warnings\n",
    "warnings.filterwarnings(\"ignore\")"
   ]
  },
  {
   "cell_type": "code",
   "execution_count": 2,
   "id": "382d9dd1-de64-4c62-9798-471fba3d1559",
   "metadata": {},
   "outputs": [],
   "source": [
    "targets=[\"Response\"]\n",
    "target=targets[0]"
   ]
  },
  {
   "cell_type": "code",
   "execution_count": 3,
   "id": "5eb0d9d0-cdae-46fa-a72c-f453e01794d0",
   "metadata": {},
   "outputs": [],
   "source": [
    "def ensemble_mean(sub_list,cols, mean=\"AM\"):    \n",
    "    ##用于计算给定列表的各种不同的均值具体来说它接受一个包含多个数据帧（sub_list）的列表、需要计算均值的列名（cols），\n",
    "    ##以及指定的均值类型（mean），并返回计算后的结果数据帧（sub_out）。\n",
    "    \n",
    "    \"\"\"\n",
    "    The function computes Arithmetic Mean/Geometric Mean/Harmonic Mean given a list of results with specific results.\n",
    "    \"\"\"\n",
    "    \n",
    "    sub_out=sub_list[0].copy()\n",
    "    if mean==\"AM\":\n",
    "        for col in cols:\n",
    "            sub_out[col]=sum(df[col] for df in sub_list)/len(sub_list)\n",
    "    elif mean==\"GM\":\n",
    "        for df in sub_list[1:]:\n",
    "            for col in cols:\n",
    "                sub_out[col]*=df[col]\n",
    "        for col in cols:\n",
    "            sub_out[col]=(sub_out[col])**(1/len(sub_list))\n",
    "    elif mean==\"HM\":\n",
    "        for col in cols:\n",
    "            sub_out[col]=len(sub_list)/sum(1/df[col] for df in sub_list)\n",
    "    \n",
    "    return sub_out"
   ]
  },
  {
   "cell_type": "code",
   "execution_count": 4,
   "id": "1d85f79d-8771-44dc-bc1d-3d995ec0ce6d",
   "metadata": {},
   "outputs": [],
   "source": [
    "sub_ext0=pd.read_parquet('/home/zhenghao/kaggle/kaggle_grealish/answer/submission.parquet')\n",
    "sub_ext1=pd.read_csv('/home/zhenghao/kaggle/kaggle_grealish/answer/Catboost-hyperopt.csv')\n",
    "sub_ext2=pd.read_csv('/home/zhenghao/kaggle/kaggle_grealish/answer/lightbgm.csv')\n",
    "sub_ext3=pd.read_csv('/home/zhenghao/kaggle/kaggle_grealish/answer/automl.csv')\n",
    "sub_ext4=pd.read_csv('/home/zhenghao/kaggle/kaggle_grealish/answer/EDA.csv')\n",
    "sub_ext5=pd.read_csv('/home/zhenghao/kaggle/kaggle_grealish/answer/LightAutoML_grealish.csv')\n"
   ]
  },
  {
   "cell_type": "code",
   "execution_count": 5,
   "id": "a8bc9143-5857-4380-be2c-6bea3704c88d",
   "metadata": {},
   "outputs": [],
   "source": [
    "def scale(df,targets):\n",
    "    sc=MinMaxScaler()\n",
    "    df[targets]=sc.fit_transform(df[targets])\n",
    "    \n",
    "    return df\n",
    "\n",
    "sub_ext0=scale(sub_ext0,targets)\n",
    "sub_ext1=scale(sub_ext1,targets)\n",
    "sub_ext2=scale(sub_ext2,targets)\n",
    "sub_ext3=scale(sub_ext3,targets)\n",
    "sub_ext4=scale(sub_ext4,targets)\n",
    "sub_ext5=scale(sub_ext5,targets)"
   ]
  },
  {
   "cell_type": "code",
   "execution_count": 10,
   "id": "bfaa04d1-789e-433c-b3eb-caa3628b2a50",
   "metadata": {},
   "outputs": [
    {
     "data": {
      "text/html": [
       "<div>\n",
       "<style scoped>\n",
       "    .dataframe tbody tr th:only-of-type {\n",
       "        vertical-align: middle;\n",
       "    }\n",
       "\n",
       "    .dataframe tbody tr th {\n",
       "        vertical-align: top;\n",
       "    }\n",
       "\n",
       "    .dataframe thead th {\n",
       "        text-align: right;\n",
       "    }\n",
       "</style>\n",
       "<table border=\"1\" class=\"dataframe\">\n",
       "  <thead>\n",
       "    <tr style=\"text-align: right;\">\n",
       "      <th></th>\n",
       "      <th>id</th>\n",
       "      <th>Response</th>\n",
       "    </tr>\n",
       "  </thead>\n",
       "  <tbody>\n",
       "    <tr>\n",
       "      <th>0</th>\n",
       "      <td>11504798</td>\n",
       "      <td>0.004251</td>\n",
       "    </tr>\n",
       "    <tr>\n",
       "      <th>1</th>\n",
       "      <td>11504799</td>\n",
       "      <td>0.659490</td>\n",
       "    </tr>\n",
       "    <tr>\n",
       "      <th>2</th>\n",
       "      <td>11504800</td>\n",
       "      <td>0.243797</td>\n",
       "    </tr>\n",
       "    <tr>\n",
       "      <th>3</th>\n",
       "      <td>11504801</td>\n",
       "      <td>0.000485</td>\n",
       "    </tr>\n",
       "    <tr>\n",
       "      <th>4</th>\n",
       "      <td>11504802</td>\n",
       "      <td>0.156526</td>\n",
       "    </tr>\n",
       "  </tbody>\n",
       "</table>\n",
       "</div>"
      ],
      "text/plain": [
       "         id  Response\n",
       "0  11504798  0.004251\n",
       "1  11504799  0.659490\n",
       "2  11504800  0.243797\n",
       "3  11504801  0.000485\n",
       "4  11504802  0.156526"
      ]
     },
     "execution_count": 10,
     "metadata": {},
     "output_type": "execute_result"
    }
   ],
   "source": [
    "sub_list=[sub_ext0, sub_ext1,sub_ext2, sub_ext3,sub_ext4,sub_ext5] # list all the results\n",
    "\n",
    "weights=np.square([15,3,3,3,2,2])\n",
    "if len(sub_list)==len(weights):\n",
    "    weighted_list = [item for sublist, weight in zip(sub_list, weights) for item in [sublist] * weight]\n",
    "\n",
    "sub_ensemble=ensemble_mean(weighted_list,targets,mean=\"AM\")\n",
    "sub_ensemble.to_csv('submission_FINAL2.csv',index=False)\n",
    "sub_ensemble.head()"
   ]
  },
  {
   "cell_type": "code",
   "execution_count": 7,
   "id": "8460bb48-cb7e-48ea-b49c-78928ac0a71d",
   "metadata": {},
   "outputs": [
    {
     "data": {
      "text/plain": [
       "'sub_ext1=pd.read_csv(\"C:/Users/16010/Desktop/Deep learning from Scratch/kaggle-S4E7/data/predictions-from-others/Catboost-hyperopt-no-kvalidation.csv\")\\nsub_ext2=pd.read_csv(\"C:/Users/16010/Desktop/Deep learning from Scratch/kaggle-S4E7/data/predictions-from-others/LightBGM-Finetuned.csv\")\\nsub_ext3=pd.read_csv(\"C:/Users/16010/Desktop/Deep learning from Scratch/kaggle-S4E7/data/predictions-from-others/EDA.csv\")\\nsub_ext4=pd.read_csv(\"C:/Users/16010/Desktop/Deep learning from Scratch/kaggle-S4E7/data/predictions-from-others/Xgboost0.89307.csv\")\\nsub_ext5=pd.read_csv(\"C:/Users/16010/Desktop/Deep learning from Scratch/kaggle-S4E7/data/predictions-from-others/LightAutoML_grealish.csv\")'"
      ]
     },
     "execution_count": 7,
     "metadata": {},
     "output_type": "execute_result"
    }
   ],
   "source": [
    "'''sub_ext1=pd.read_csv(\"C:/Users/16010/Desktop/Deep learning from Scratch/kaggle-S4E7/data/predictions-from-others/Catboost-hyperopt-no-kvalidation.csv\")\n",
    "sub_ext2=pd.read_csv(\"C:/Users/16010/Desktop/Deep learning from Scratch/kaggle-S4E7/data/predictions-from-others/LightBGM-Finetuned.csv\")\n",
    "sub_ext3=pd.read_csv(\"C:/Users/16010/Desktop/Deep learning from Scratch/kaggle-S4E7/data/predictions-from-others/EDA.csv\")\n",
    "sub_ext4=pd.read_csv(\"C:/Users/16010/Desktop/Deep learning from Scratch/kaggle-S4E7/data/predictions-from-others/Xgboost0.89307.csv\")\n",
    "sub_ext5=pd.read_csv(\"C:/Users/16010/Desktop/Deep learning from Scratch/kaggle-S4E7/data/predictions-from-others/LightAutoML_grealish.csv\")'''"
   ]
  },
  {
   "cell_type": "code",
   "execution_count": 8,
   "id": "24431a54-b50c-420a-a2e8-6fc967081940",
   "metadata": {},
   "outputs": [
    {
     "data": {
      "text/plain": [
       "'def scale(df,targets):\\n    sc=MinMaxScaler()\\n    df[targets]=sc.fit_transform(df[targets])\\n    \\n    return df\\n\\nsub_ext1=scale(sub_ext1,targets)\\nsub_ext2=scale(sub_ext2,targets)\\nsub_ext3=scale(sub_ext3,targets)\\nsub_ext4=scale(sub_ext4,targets)\\nsub_ext5=scale(sub_ext5,targets)'"
      ]
     },
     "execution_count": 8,
     "metadata": {},
     "output_type": "execute_result"
    }
   ],
   "source": [
    "'''def scale(df,targets):\n",
    "    sc=MinMaxScaler()\n",
    "    df[targets]=sc.fit_transform(df[targets])\n",
    "    \n",
    "    return df\n",
    "\n",
    "sub_ext1=scale(sub_ext1,targets)\n",
    "sub_ext2=scale(sub_ext2,targets)\n",
    "sub_ext3=scale(sub_ext3,targets)\n",
    "sub_ext4=scale(sub_ext4,targets)\n",
    "sub_ext5=scale(sub_ext5,targets)'''"
   ]
  },
  {
   "cell_type": "code",
   "execution_count": 9,
   "id": "ff38b062-7f88-4368-8a01-78bc285bd90e",
   "metadata": {},
   "outputs": [
    {
     "data": {
      "text/plain": [
       "'sub_list=[sub_ext1,sub_ext2, sub_ext3,sub_ext4,sub_ext5] # list all the results\\n\\nweights=np.square([5,4,3,2,1])\\nif len(sub_list)==len(weights):\\n    weighted_list = [item for sublist, weight in zip(sub_list, weights) for item in [sublist] * weight]\\n\\nsub_ensemble=ensemble_mean(weighted_list,targets,mean=\"AM\")\\nsub_ensemble.to_csv(\\'submission.csv\\',index=False)\\nsub_ensemble.head()'"
      ]
     },
     "execution_count": 9,
     "metadata": {},
     "output_type": "execute_result"
    }
   ],
   "source": [
    "'''sub_list=[sub_ext1,sub_ext2, sub_ext3,sub_ext4,sub_ext5] # list all the results\n",
    "\n",
    "weights=np.square([5,4,3,2,1])\n",
    "if len(sub_list)==len(weights):\n",
    "    weighted_list = [item for sublist, weight in zip(sub_list, weights) for item in [sublist] * weight]\n",
    "\n",
    "sub_ensemble=ensemble_mean(weighted_list,targets,mean=\"AM\")\n",
    "sub_ensemble.to_csv('submission.csv',index=False)\n",
    "sub_ensemble.head()'''"
   ]
  },
  {
   "cell_type": "code",
   "execution_count": null,
   "id": "8b7aee88-7f46-4b4a-b11e-17c57c72896b",
   "metadata": {},
   "outputs": [],
   "source": []
  }
 ],
 "metadata": {
  "kernelspec": {
   "display_name": "Python 3 (ipykernel)",
   "language": "python",
   "name": "python3"
  },
  "language_info": {
   "codemirror_mode": {
    "name": "ipython",
    "version": 3
   },
   "file_extension": ".py",
   "mimetype": "text/x-python",
   "name": "python",
   "nbconvert_exporter": "python",
   "pygments_lexer": "ipython3",
   "version": "3.11.9"
  }
 },
 "nbformat": 4,
 "nbformat_minor": 5
}
