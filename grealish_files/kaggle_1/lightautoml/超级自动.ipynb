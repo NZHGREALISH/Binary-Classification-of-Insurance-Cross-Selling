{
 "cells": [
  {
   "cell_type": "code",
   "execution_count": 1,
   "metadata": {},
   "outputs": [
    {
     "name": "stdout",
     "output_type": "stream",
     "text": [
      "'nlp' extra dependecy package 'gensim' isn't installed. Look at README.md in repo 'LightAutoML' for installation instructions.\n",
      "'nlp' extra dependecy package 'gensim' isn't installed. Look at README.md in repo 'LightAutoML' for installation instructions.\n"
     ]
    },
    {
     "name": "stderr",
     "output_type": "stream",
     "text": [
      "/home/zhenghao/.conda/envs/autogluon/lib/python3.10/site-packages/lightautoml/transformers/text.py:22: UserWarning: 'gensim' - package isn't installed\n",
      "  warnings.warn(\"'gensim' - package isn't installed\")\n"
     ]
    }
   ],
   "source": [
    "import numpy as np\n",
    "import pandas as pd\n",
    "import gc\n",
    "from sklearn.metrics import roc_auc_score\n",
    "from sklearn.model_selection import train_test_split\n",
    "\n",
    "# LightAutoML presets, task and report generation\n",
    "from lightautoml.automl.presets.tabular_presets import TabularAutoML\n",
    "from lightautoml.tasks import Task\n"
   ]
  },
  {
   "cell_type": "code",
   "execution_count": 2,
   "metadata": {},
   "outputs": [],
   "source": [
    "train = pd.read_csv('/home/zhenghao/kaggle_grealish/grealish_files/kaggle_1/lightautoml/train.csv')"
   ]
  },
  {
   "cell_type": "code",
   "execution_count": 3,
   "metadata": {},
   "outputs": [
    {
     "name": "stdout",
     "output_type": "stream",
     "text": [
      "Index(['id', 'class', 'cap-diameter', 'cap-shape', 'cap-surface', 'cap-color',\n",
      "       'does-bruise-or-bleed', 'gill-attachment', 'gill-spacing', 'gill-color',\n",
      "       'stem-height', 'stem-width', 'stem-root', 'stem-surface', 'stem-color',\n",
      "       'veil-type', 'veil-color', 'has-ring', 'ring-type', 'spore-print-color',\n",
      "       'habitat', 'season'],\n",
      "      dtype='object')\n"
     ]
    }
   ],
   "source": [
    "print(train.columns)\n"
   ]
  },
  {
   "cell_type": "code",
   "execution_count": 4,
   "metadata": {},
   "outputs": [
    {
     "ename": "NameError",
     "evalue": "name 'X_train' is not defined",
     "output_type": "error",
     "traceback": [
      "\u001b[0;31m---------------------------------------------------------------------------\u001b[0m",
      "\u001b[0;31mNameError\u001b[0m                                 Traceback (most recent call last)",
      "Cell \u001b[0;32mIn[4], line 1\u001b[0m\n\u001b[0;32m----> 1\u001b[0m \u001b[38;5;28mprint\u001b[39m(\u001b[43mX_train\u001b[49m\u001b[38;5;241m.\u001b[39mcolumns)\n\u001b[1;32m      2\u001b[0m \u001b[38;5;28mprint\u001b[39m(X_val\u001b[38;5;241m.\u001b[39mcolumns)\n",
      "\u001b[0;31mNameError\u001b[0m: name 'X_train' is not defined"
     ]
    }
   ],
   "source": [
    "print(X_train.columns)\n",
    "print(X_val.columns)\n"
   ]
  },
  {
   "cell_type": "code",
   "execution_count": 5,
   "metadata": {},
   "outputs": [],
   "source": [
    "X_train, X_val = train_test_split(train, test_size=0.2, random_state=42, shuffle=True, stratify=train['class'])"
   ]
  },
  {
   "cell_type": "code",
   "execution_count": 6,
   "metadata": {},
   "outputs": [],
   "source": [
    "task = Task('binary')"
   ]
  },
  {
   "cell_type": "code",
   "execution_count": 7,
   "metadata": {},
   "outputs": [
    {
     "name": "stdout",
     "output_type": "stream",
     "text": [
      "[10:29:22] Stdout logging level is DEBUG.\n"
     ]
    },
    {
     "name": "stdout",
     "output_type": "stream",
     "text": [
      "[10:29:22] Copying TaskTimer may affect the parent PipelineTimer, so copy will create new unlimited TaskTimer\n",
      "[10:29:22] Task: binary\n",
      "\n",
      "[10:29:22] Start automl preset with listed constraints:\n",
      "[10:29:22] - time: 2160000.00 seconds\n",
      "[10:29:22] - CPU: 24 cores\n",
      "[10:29:22] - memory: 16 GB\n",
      "\n",
      "[10:29:22] \u001b[1mTrain data shape: (2493556, 22)\u001b[0m\n",
      "\n",
      "[10:29:34] Feats was rejected during automatic roles guess: []\n",
      "[10:29:35] Layer \u001b[1m1\u001b[0m train process start. Time left 2159986.75 secs\n",
      "[10:31:34] Linear model: C = 1e-05 score = 0.9010560349808924\n",
      "[10:32:05] Linear model: C = 5e-05 score = 0.9271357831713997\n",
      "[10:32:38] Linear model: C = 0.0001 score = 0.934132529371531\n",
      "[10:33:34] Linear model: C = 0.0005 score = 0.9443477168199919\n",
      "[10:34:31] Linear model: C = 0.001 score = 0.9468095333456115\n",
      "[10:35:47] Linear model: C = 0.005 score = 0.9498714877568295\n",
      "[10:35:48] Linear model: C = 0.01 score = 0.9498714877568295\n",
      "[10:35:49] Linear model: C = 0.05 score = 0.9498714877568295\n",
      "[10:35:49] \u001b[1mLvl_0_Pipe_0_Mod_0_LinearL2\u001b[0m fitting and predicting completed\n",
      "[10:35:49] Time left 2159612.61 secs\n",
      "\n",
      "[10:35:55] Training until validation scores don't improve for 100 rounds\n",
      "[10:36:03] [100]\tvalid's auc: 0.996974\n",
      "[10:36:11] [200]\tvalid's auc: 0.997221\n",
      "[10:36:18] [300]\tvalid's auc: 0.997223\n",
      "[10:36:20] Early stopping, best iteration is:\n",
      "[232]\tvalid's auc: 0.99723\n",
      "[10:36:21] \u001b[1mSelector_LightGBM\u001b[0m fitting and predicting completed\n",
      "[10:38:07] Training until validation scores don't improve for 100 rounds\n",
      "[10:38:16] [100]\tvalid's auc: 0.996756\n",
      "[10:38:26] [200]\tvalid's auc: 0.997171\n",
      "[10:38:34] [300]\tvalid's auc: 0.997172\n",
      "[10:38:37] Early stopping, best iteration is:\n",
      "[238]\tvalid's auc: 0.997184\n",
      "[10:38:38] \u001b[1mLvl_0_Pipe_1_Mod_0_LightGBM\u001b[0m fitting and predicting completed\n",
      "[10:38:38] Start hyperparameters optimization for \u001b[1mLvl_0_Pipe_1_Mod_1_Tuned_LightGBM\u001b[0m ... Time budget is 300.00 secs\n",
      "[10:38:39] Training until validation scores don't improve for 100 rounds\n",
      "[10:38:48] [100]\tvalid's auc: 0.996784\n",
      "[10:38:57] [200]\tvalid's auc: 0.997168\n",
      "[10:39:05] [300]\tvalid's auc: 0.997169\n",
      "[10:39:08] Early stopping, best iteration is:\n",
      "[249]\tvalid's auc: 0.997187\n",
      "[10:39:09] \u001b[1mTrial 1\u001b[0m with hyperparameters {'feature_fraction': 0.6872700594236812, 'num_leaves': 244, 'bagging_fraction': 0.8659969709057025, 'min_sum_hessian_in_leaf': 0.24810409748678125, 'reg_alpha': 2.5361081166471375e-07, 'reg_lambda': 2.5348407664333426e-07} scored 0.9971870497417566 in 0:00:31.473780\n",
      "[10:39:10] Training until validation scores don't improve for 100 rounds\n",
      "[10:39:19] [100]\tvalid's auc: 0.996755\n",
      "[10:39:27] [200]\tvalid's auc: 0.997189\n",
      "[10:39:36] [300]\tvalid's auc: 0.997221\n",
      "[10:39:44] [400]\tvalid's auc: 0.997223\n",
      "[10:39:48] Early stopping, best iteration is:\n",
      "[354]\tvalid's auc: 0.997228\n",
      "[10:39:50] \u001b[1mTrial 2\u001b[0m with hyperparameters {'feature_fraction': 0.5290418060840998, 'num_leaves': 223, 'bagging_fraction': 0.8005575058716043, 'min_sum_hessian_in_leaf': 0.679657809075816, 'reg_alpha': 1.5320059381854043e-08, 'reg_lambda': 5.360294728728285} scored 0.9972280593895684 in 0:00:40.610923\n",
      "[10:39:51] Training until validation scores don't improve for 100 rounds\n",
      "[10:39:57] [100]\tvalid's auc: 0.995902\n",
      "[10:40:03] [200]\tvalid's auc: 0.996859\n",
      "[10:40:09] [300]\tvalid's auc: 0.996966\n",
      "[10:40:14] [400]\tvalid's auc: 0.997007\n",
      "[10:40:19] [500]\tvalid's auc: 0.997036\n",
      "[10:40:24] [600]\tvalid's auc: 0.997059\n",
      "[10:40:29] [700]\tvalid's auc: 0.997075\n",
      "[10:40:33] [800]\tvalid's auc: 0.997078\n",
      "[10:40:38] [900]\tvalid's auc: 0.997081\n",
      "[10:40:40] Early stopping, best iteration is:\n",
      "[847]\tvalid's auc: 0.997083\n",
      "[10:40:43] \u001b[1mTrial 3\u001b[0m with hyperparameters {'feature_fraction': 0.9162213204002109, 'num_leaves': 66, 'bagging_fraction': 0.5909124836035503, 'min_sum_hessian_in_leaf': 0.00541524411940254, 'reg_alpha': 5.472429642032198e-06, 'reg_lambda': 0.00052821153945323} scored 0.9970826887780375 in 0:00:53.695727\n",
      "[10:40:45] Training until validation scores don't improve for 100 rounds\n",
      "[10:40:51] [100]\tvalid's auc: 0.996272\n",
      "[10:40:59] [200]\tvalid's auc: 0.99698\n",
      "[10:41:05] [300]\tvalid's auc: 0.997065\n",
      "[10:41:10] [400]\tvalid's auc: 0.99709\n",
      "[10:41:15] [500]\tvalid's auc: 0.997107\n",
      "[10:41:20] [600]\tvalid's auc: 0.997122\n",
      "[10:41:25] [700]\tvalid's auc: 0.997126\n",
      "[10:41:30] [800]\tvalid's auc: 0.997137\n",
      "[10:41:35] [900]\tvalid's auc: 0.997136\n",
      "[10:41:36] Early stopping, best iteration is:\n",
      "[817]\tvalid's auc: 0.997138\n",
      "[10:41:39] \u001b[1mTrial 4\u001b[0m with hyperparameters {'feature_fraction': 0.7159725093210578, 'num_leaves': 85, 'bagging_fraction': 0.8059264473611898, 'min_sum_hessian_in_leaf': 0.003613894271216527, 'reg_alpha': 4.258943089524393e-06, 'reg_lambda': 1.9826980964985924e-05} scored 0.9971379225646209 in 0:00:55.091261\n",
      "[10:41:40] Training until validation scores don't improve for 100 rounds\n",
      "[10:41:48] [100]\tvalid's auc: 0.996655\n",
      "[10:41:57] [200]\tvalid's auc: 0.997105\n",
      "[10:42:04] [300]\tvalid's auc: 0.997112\n",
      "[10:42:07] Early stopping, best iteration is:\n",
      "[240]\tvalid's auc: 0.997117\n",
      "[10:42:08] \u001b[1mTrial 5\u001b[0m with hyperparameters {'feature_fraction': 0.728034992108518, 'num_leaves': 204, 'bagging_fraction': 0.5998368910791798, 'min_sum_hessian_in_leaf': 0.11400863701127326, 'reg_alpha': 0.0021465011216654484, 'reg_lambda': 2.6185068507773707e-08} scored 0.9971169158844088 in 0:00:29.569086\n",
      "[10:42:09] Training until validation scores don't improve for 100 rounds\n",
      "[10:42:15] [100]\tvalid's auc: 0.995855\n",
      "[10:42:22] [200]\tvalid's auc: 0.996816\n",
      "[10:42:28] [300]\tvalid's auc: 0.997015\n",
      "[10:42:35] [400]\tvalid's auc: 0.997101\n",
      "[10:42:41] [500]\tvalid's auc: 0.997142\n",
      "[10:42:47] [600]\tvalid's auc: 0.997161\n",
      "[10:42:54] [700]\tvalid's auc: 0.997173\n",
      "[10:43:00] [800]\tvalid's auc: 0.997178\n",
      "[10:43:06] [900]\tvalid's auc: 0.997186\n",
      "[10:43:12] [1000]\tvalid's auc: 0.997189\n",
      "[10:43:19] [1100]\tvalid's auc: 0.997185\n",
      "[10:43:22] Early stopping, best iteration is:\n",
      "[1050]\tvalid's auc: 0.997193\n",
      "[10:43:26] \u001b[1mTrial 6\u001b[0m with hyperparameters {'feature_fraction': 0.8037724259507192, 'num_leaves': 56, 'bagging_fraction': 0.5325257964926398, 'min_sum_hessian_in_leaf': 6.245139574743075, 'reg_alpha': 4.905556676028774, 'reg_lambda': 0.18861495878553936} scored 0.9971928451818607 in 0:01:18.402372\n",
      "[10:43:28] Training until validation scores don't improve for 100 rounds\n",
      "[10:43:34] [100]\tvalid's auc: 0.995576\n",
      "[10:43:40] [200]\tvalid's auc: 0.996621\n",
      "[10:43:46] [300]\tvalid's auc: 0.996895\n",
      "[10:43:51] [400]\tvalid's auc: 0.996985\n",
      "[10:43:56] [500]\tvalid's auc: 0.997035\n",
      "[10:44:01] [600]\tvalid's auc: 0.997068\n",
      "[10:44:06] [700]\tvalid's auc: 0.997086\n",
      "[10:44:11] [800]\tvalid's auc: 0.997101\n",
      "[10:44:16] [900]\tvalid's auc: 0.997109\n",
      "[10:44:20] [1000]\tvalid's auc: 0.997114\n",
      "[10:44:25] [1100]\tvalid's auc: 0.997126\n",
      "[10:44:30] [1200]\tvalid's auc: 0.997135\n",
      "[10:44:33] Early stopping, best iteration is:\n",
      "[1166]\tvalid's auc: 0.997136\n",
      "[10:44:37] \u001b[1mTrial 7\u001b[0m with hyperparameters {'feature_fraction': 0.6523068845866853, 'num_leaves': 39, 'bagging_fraction': 0.8421165132560784, 'min_sum_hessian_in_leaf': 0.057624872164786026, 'reg_alpha': 1.254134495897175e-07, 'reg_lambda': 0.00028614897264046574} scored 0.9971360371302409 in 0:01:10.329369\n",
      "[10:44:37] Hyperparameters optimization for \u001b[1mLvl_0_Pipe_1_Mod_1_Tuned_LightGBM\u001b[0m completed\n",
      "[10:44:37] The set of hyperparameters \u001b[1m{'feature_fraction': 0.5290418060840998, 'num_leaves': 223, 'bagging_fraction': 0.8005575058716043, 'min_sum_hessian_in_leaf': 0.679657809075816, 'reg_alpha': 1.5320059381854043e-08, 'reg_lambda': 5.360294728728285}\u001b[0m\n",
      " achieve 0.9972 auc\n",
      "[10:44:38] Training until validation scores don't improve for 100 rounds\n",
      "[10:44:46] [100]\tvalid's auc: 0.996755\n",
      "[10:44:55] [200]\tvalid's auc: 0.997189\n",
      "[10:45:03] [300]\tvalid's auc: 0.997221\n",
      "[10:45:10] [400]\tvalid's auc: 0.997223\n",
      "[10:45:14] Early stopping, best iteration is:\n",
      "[354]\tvalid's auc: 0.997228\n",
      "[10:45:18] Default metric period is 5 because AUC\n",
      "[10:45:18]  is/are not implemented for GPU\n",
      "[10:45:18] 0:\ttest: 0.9450327\tbest: 0.9450327 (0)\ttotal: 134ms\tremaining: 6m 41s\n",
      "[10:45:19] 100:\ttest: 0.9917984\tbest: 0.9917984 (100)\ttotal: 1.4s\tremaining: 40s\n",
      "[10:45:21] 200:\ttest: 0.9945040\tbest: 0.9945040 (200)\ttotal: 2.62s\tremaining: 36.5s\n",
      "[10:45:22] 300:\ttest: 0.9954852\tbest: 0.9954852 (300)\ttotal: 3.85s\tremaining: 34.5s\n",
      "[10:45:23] 400:\ttest: 0.9959139\tbest: 0.9959139 (400)\ttotal: 5.1s\tremaining: 33s\n",
      "[10:45:24] 500:\ttest: 0.9961388\tbest: 0.9961388 (500)\ttotal: 6.34s\tremaining: 31.6s\n",
      "[10:45:26] 600:\ttest: 0.9962930\tbest: 0.9962930 (600)\ttotal: 7.6s\tremaining: 30.3s\n",
      "[10:45:27] 700:\ttest: 0.9964183\tbest: 0.9964183 (700)\ttotal: 8.84s\tremaining: 29s\n",
      "[10:45:28] 800:\ttest: 0.9965076\tbest: 0.9965076 (800)\ttotal: 10.1s\tremaining: 27.7s\n",
      "[10:45:29] 900:\ttest: 0.9965745\tbest: 0.9965745 (900)\ttotal: 11.4s\tremaining: 26.5s\n",
      "[10:45:31] 1000:\ttest: 0.9966272\tbest: 0.9966272 (1000)\ttotal: 12.7s\tremaining: 25.3s\n",
      "[10:45:32] 1100:\ttest: 0.9966703\tbest: 0.9966703 (1100)\ttotal: 13.9s\tremaining: 24s\n",
      "[10:45:33] 1200:\ttest: 0.9967088\tbest: 0.9967088 (1200)\ttotal: 15.2s\tremaining: 22.7s\n",
      "[10:45:34] 1300:\ttest: 0.9967527\tbest: 0.9967527 (1300)\ttotal: 16.4s\tremaining: 21.4s\n",
      "[10:45:36] 1400:\ttest: 0.9967811\tbest: 0.9967811 (1400)\ttotal: 17.7s\tremaining: 20.2s\n",
      "[10:45:37] 1500:\ttest: 0.9968074\tbest: 0.9968074 (1500)\ttotal: 18.9s\tremaining: 18.9s\n",
      "[10:45:38] 1600:\ttest: 0.9968275\tbest: 0.9968275 (1600)\ttotal: 20.1s\tremaining: 17.6s\n",
      "[10:45:39] 1700:\ttest: 0.9968459\tbest: 0.9968459 (1699)\ttotal: 21.4s\tremaining: 16.3s\n",
      "[10:45:41] 1800:\ttest: 0.9968593\tbest: 0.9968593 (1800)\ttotal: 22.6s\tremaining: 15.1s\n",
      "[10:45:42] 1900:\ttest: 0.9968755\tbest: 0.9968758 (1899)\ttotal: 23.9s\tremaining: 13.8s\n",
      "[10:45:43] 2000:\ttest: 0.9968924\tbest: 0.9968925 (1997)\ttotal: 25.1s\tremaining: 12.5s\n",
      "[10:45:44] 2100:\ttest: 0.9969059\tbest: 0.9969059 (2100)\ttotal: 26.3s\tremaining: 11.3s\n",
      "[10:45:46] 2200:\ttest: 0.9969153\tbest: 0.9969156 (2187)\ttotal: 27.6s\tremaining: 10s\n",
      "[10:45:47] 2300:\ttest: 0.9969260\tbest: 0.9969260 (2300)\ttotal: 28.8s\tremaining: 8.76s\n",
      "[10:45:48] 2400:\ttest: 0.9969344\tbest: 0.9969347 (2397)\ttotal: 30.1s\tremaining: 7.5s\n",
      "[10:45:49] 2500:\ttest: 0.9969444\tbest: 0.9969444 (2498)\ttotal: 31.3s\tremaining: 6.25s\n",
      "[10:45:51] 2600:\ttest: 0.9969535\tbest: 0.9969535 (2600)\ttotal: 32.5s\tremaining: 4.99s\n",
      "[10:45:52] 2700:\ttest: 0.9969648\tbest: 0.9969649 (2699)\ttotal: 33.8s\tremaining: 3.74s\n",
      "[10:45:53] 2800:\ttest: 0.9969728\tbest: 0.9969728 (2798)\ttotal: 35s\tremaining: 2.49s\n",
      "[10:45:54] 2900:\ttest: 0.9969791\tbest: 0.9969793 (2899)\ttotal: 36.3s\tremaining: 1.24s\n",
      "[10:45:55] 2999:\ttest: 0.9969857\tbest: 0.9969859 (2995)\ttotal: 37.5s\tremaining: 0us\n",
      "[10:45:55] bestTest = 0.9969859123\n",
      "[10:45:55] bestIteration = 2995\n",
      "[10:45:55] Shrink model to first 2996 iterations.\n",
      "[10:45:56] \u001b[1mLvl_0_Pipe_1_Mod_2_CatBoost\u001b[0m fitting and predicting completed\n",
      "[10:45:56] Time left 2159006.11 secs\n",
      "\n",
      "[10:45:56] \u001b[1mLayer 1 training completed.\u001b[0m\n",
      "\n",
      "[10:45:56] Blending: optimization starts with equal weights and score \u001b[1m0.9963265092313003\u001b[0m\n",
      "[10:46:00] Blending: iteration \u001b[1m0\u001b[0m: score = \u001b[1m0.9972520799960692\u001b[0m, weights = \u001b[1m[0.        0.2456462 0.6205072 0.1338466]\u001b[0m\n",
      "[10:46:04] Blending: iteration \u001b[1m1\u001b[0m: score = \u001b[1m0.9972521296793113\u001b[0m, weights = \u001b[1m[0.         0.22862977 0.6365902  0.13478003]\u001b[0m\n",
      "[10:46:08] Blending: iteration \u001b[1m2\u001b[0m: score = \u001b[1m0.9972521336880346\u001b[0m, weights = \u001b[1m[0.         0.22803633 0.6371563  0.13480742]\u001b[0m\n",
      "[10:46:12] Blending: iteration \u001b[1m3\u001b[0m: score = \u001b[1m0.9972521336880346\u001b[0m, weights = \u001b[1m[0.         0.22803633 0.6371563  0.13480742]\u001b[0m\n",
      "[10:46:12] Blending: no score update. Terminated\n",
      "\n",
      "[10:46:12] \u001b[1mAutoml preset training completed in 1010.04 seconds\u001b[0m\n",
      "\n",
      "[10:46:12] Model description:\n",
      "Final prediction for new objects (level 0) = \n",
      "\t 0.22804 * (1 averaged models Lvl_0_Pipe_1_Mod_0_LightGBM) +\n",
      "\t 0.63716 * (1 averaged models Lvl_0_Pipe_1_Mod_1_Tuned_LightGBM) +\n",
      "\t 0.13481 * (1 averaged models Lvl_0_Pipe_1_Mod_2_CatBoost) \n",
      "\n"
     ]
    }
   ],
   "source": [
    "automl = TabularAutoML(\n",
    "    task=task,  # 指定任务类型\n",
    "    timeout=600 * 3600,  # 设定训练时间上限为600小时\n",
    "    cpu_limit=24,  # 使用的CPU核心数量限制为12\n",
    "    gpu_ids='0',  # 使用第一个GPU\n",
    "    general_params={\"use_algos\": [['linear_l2', 'lgb', 'lgb_tuned', 'cb']]},  # 让系统自动选择合适的算法\n",
    "    reader_params={'n_jobs': 12, 'cv': 5, 'random_state': 42, 'advanced_roles': True}  # 数据读取参数\n",
    ")\n",
    "\n",
    "out_of_fold_predictions = automl.fit_predict(\n",
    "    X_train, valid_data=X_val,  # 训练集和验证集\n",
    "    roles={\n",
    "        'target': 'class',  # 目标列\n",
    "        'drop': ['id'],  # 丢弃的列\n",
    "    }, \n",
    "    verbose=4  # 显示详细的训练信息\n",
    ")"
   ]
  },
  {
   "cell_type": "code",
   "execution_count": 8,
   "metadata": {},
   "outputs": [
    {
     "data": {
      "text/plain": [
       "955"
      ]
     },
     "execution_count": 8,
     "metadata": {},
     "output_type": "execute_result"
    }
   ],
   "source": [
    "del train, X_train, X_val\n",
    "gc.collect()"
   ]
  },
  {
   "cell_type": "code",
   "execution_count": 9,
   "metadata": {},
   "outputs": [],
   "source": [
    "test = pd.read_csv('/home/zhenghao/kaggle_grealish/grealish_files/kaggle_1/lightautoml/test.csv')\n",
    "ss = pd.read_csv('/home/zhenghao/kaggle_grealish/grealish_files/kaggle_1/lightautoml/sample_submission.csv')"
   ]
  },
  {
   "cell_type": "code",
   "execution_count": 14,
   "metadata": {},
   "outputs": [
    {
     "name": "stdout",
     "output_type": "stream",
     "text": [
      "        id class\n",
      "0  3116945     e\n",
      "1  3116946     p\n",
      "2  3116947     p\n",
      "3  3116948     p\n",
      "4  3116949     e\n"
     ]
    }
   ],
   "source": [
    "# Use the automl model to predict probabilities\n",
    "pred = automl.predict(test).data[:, 0]\n",
    "\n",
    "# Convert probabilities to 'p' or 'e' based on the threshold of 0.5\n",
    "pred_labels = np.where(pred > 0.5, 'e', 'p')\n",
    "\n",
    "# Assign the modified labels to the appropriate column in your DataFrame\n",
    "ss['class'] = pred_labels  # Make sure the column name is correctly specified\n",
    "\n",
    "# Save the DataFrame to CSV, ensuring you do not include the index\n",
    "ss.to_csv('CHONGCI2.csv', index=False)\n",
    "\n",
    "# Optional: Print the first few rows to verify the contents before saving\n",
    "print(ss.head())\n"
   ]
  }
 ],
 "metadata": {
  "kernelspec": {
   "display_name": "light_new",
   "language": "python",
   "name": "python3"
  },
  "language_info": {
   "codemirror_mode": {
    "name": "ipython",
    "version": 3
   },
   "file_extension": ".py",
   "mimetype": "text/x-python",
   "name": "python",
   "nbconvert_exporter": "python",
   "pygments_lexer": "ipython3",
   "version": "3.10.14"
  }
 },
 "nbformat": 4,
 "nbformat_minor": 2
}
