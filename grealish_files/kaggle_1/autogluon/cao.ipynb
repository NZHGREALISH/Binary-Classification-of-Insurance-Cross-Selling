{
 "cells": [
  {
   "cell_type": "code",
   "execution_count": null,
   "metadata": {},
   "outputs": [],
   "source": [
    "import pandas as pd \n",
    "pd.set_option('display.max_columns', None)\n",
    "import optuna\n",
    "import math\n",
    "import numpy as np \n",
    "import seaborn as sns \n",
    "from autogluon.common.savers import save_pd\n",
    "from autogluon.tabular import TabularPredictor, TabularDataset\n",
    "import warnings \n",
    "warnings.filterwarnings(\"ignore\")\n",
    "pd.set_option('display.max_columns', None)"
   ]
  },
  {
   "cell_type": "code",
   "execution_count": null,
   "metadata": {},
   "outputs": [],
   "source": [
    "tr_d = TabularDataset('/home/zhenghao/kaggle/train.csv')\n",
    "te_d = TabularDataset('/home/zhenghao/kaggle/test.csv')\n",
    "tr_d = tr_d.drop(\"id\",axis=1)\n"
   ]
  },
  {
   "cell_type": "code",
   "execution_count": null,
   "metadata": {},
   "outputs": [],
   "source": []
  }
 ],
 "metadata": {
  "kernelspec": {
   "display_name": "match",
   "language": "python",
   "name": "python3"
  },
  "language_info": {
   "name": "python",
   "version": "3.11.9"
  }
 },
 "nbformat": 4,
 "nbformat_minor": 2
}
