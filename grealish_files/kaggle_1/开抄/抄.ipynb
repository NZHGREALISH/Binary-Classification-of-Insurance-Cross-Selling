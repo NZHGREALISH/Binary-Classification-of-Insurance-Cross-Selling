{
 "cells": [
  {
   "cell_type": "code",
   "execution_count": 1,
   "metadata": {},
   "outputs": [],
   "source": [
    "import numpy as np \n",
    "import pandas as pd \n",
    "from sklearn.preprocessing import MinMaxScaler\n",
    "import warnings\n",
    "\n",
    "# Ignore all warnings\n",
    "warnings.filterwarnings(\"ignore\")"
   ]
  },
  {
   "cell_type": "code",
   "execution_count": 2,
   "metadata": {},
   "outputs": [],
   "source": [
    "targets=[\"Response\"]\n",
    "target=targets[0]"
   ]
  },
  {
   "cell_type": "code",
   "execution_count": 3,
   "metadata": {},
   "outputs": [],
   "source": [
    "def ensemble_mean(sub_list,cols, mean=\"AM\"):\n",
    "    \n",
    "    \"\"\"\n",
    "    The function computes Arithmetic Mean/Geometric Mean/Harmonic Mean given a list of results with specific results.\n",
    "    \"\"\"\n",
    "    \n",
    "    sub_out=sub_list[0].copy()\n",
    "    if mean==\"AM\":\n",
    "        for col in cols:\n",
    "            sub_out[col]=sum(df[col] for df in sub_list)/len(sub_list)\n",
    "    elif mean==\"GM\":\n",
    "        for df in sub_list[1:]:\n",
    "            for col in cols:\n",
    "                sub_out[col]*=df[col]\n",
    "        for col in cols:\n",
    "            sub_out[col]=(sub_out[col])**(1/len(sub_list))\n",
    "    elif mean==\"HM\":\n",
    "        for col in cols:\n",
    "            sub_out[col]=len(sub_list)/sum(1/df[col] for df in sub_list)\n",
    "    \n",
    "    return sub_out"
   ]
  },
  {
   "cell_type": "code",
   "execution_count": 4,
   "metadata": {},
   "outputs": [],
   "source": [
    "sub_ext1=pd.read_csv(\"/home/zhenghao/kaggle/sub/89607.csv\")\n",
    "sub_ext2=pd.read_csv(\"/home/zhenghao/kaggle/sub/89588.csv\")\n",
    "sub_ext3=pd.read_csv(\"/home/zhenghao/kaggle/sub/89578.csv\")\n",
    "sub_ext4=pd.read_csv(\"/home/zhenghao/kaggle/sub/89577.csv\")\n",
    "sub_ext5=pd.read_csv(\"/home/zhenghao/kaggle/sub/89232.csv\")\n",
    "\n",
    "def scale(df,targets):\n",
    "    sc=MinMaxScaler()\n",
    "    df[targets]=sc.fit_transform(df[targets])\n",
    "    \n",
    "    return df\n",
    "\n",
    "sub_ext1=scale(sub_ext1,targets)\n",
    "sub_ext2=scale(sub_ext2,targets)\n",
    "sub_ext3=scale(sub_ext3,targets)\n",
    "sub_ext4=scale(sub_ext4,targets)\n",
    "sub_ext5=scale(sub_ext5,targets)"
   ]
  },
  {
   "cell_type": "code",
   "execution_count": 6,
   "metadata": {},
   "outputs": [
    {
     "data": {
      "text/html": [
       "<div>\n",
       "<style scoped>\n",
       "    .dataframe tbody tr th:only-of-type {\n",
       "        vertical-align: middle;\n",
       "    }\n",
       "\n",
       "    .dataframe tbody tr th {\n",
       "        vertical-align: top;\n",
       "    }\n",
       "\n",
       "    .dataframe thead th {\n",
       "        text-align: right;\n",
       "    }\n",
       "</style>\n",
       "<table border=\"1\" class=\"dataframe\">\n",
       "  <thead>\n",
       "    <tr style=\"text-align: right;\">\n",
       "      <th></th>\n",
       "      <th>id</th>\n",
       "      <th>Response</th>\n",
       "    </tr>\n",
       "  </thead>\n",
       "  <tbody>\n",
       "    <tr>\n",
       "      <th>0</th>\n",
       "      <td>11504798</td>\n",
       "      <td>0.004476</td>\n",
       "    </tr>\n",
       "    <tr>\n",
       "      <th>1</th>\n",
       "      <td>11504799</td>\n",
       "      <td>0.662910</td>\n",
       "    </tr>\n",
       "    <tr>\n",
       "      <th>2</th>\n",
       "      <td>11504800</td>\n",
       "      <td>0.246516</td>\n",
       "    </tr>\n",
       "    <tr>\n",
       "      <th>3</th>\n",
       "      <td>11504801</td>\n",
       "      <td>0.000083</td>\n",
       "    </tr>\n",
       "    <tr>\n",
       "      <th>4</th>\n",
       "      <td>11504802</td>\n",
       "      <td>0.219090</td>\n",
       "    </tr>\n",
       "  </tbody>\n",
       "</table>\n",
       "</div>"
      ],
      "text/plain": [
       "         id  Response\n",
       "0  11504798  0.004476\n",
       "1  11504799  0.662910\n",
       "2  11504800  0.246516\n",
       "3  11504801  0.000083\n",
       "4  11504802  0.219090"
      ]
     },
     "execution_count": 6,
     "metadata": {},
     "output_type": "execute_result"
    }
   ],
   "source": [
    "sub_list=[sub_ext1,sub_ext2, sub_ext3,sub_ext4,sub_ext5] # list all the results\n",
    "\n",
    "weights=np.square([5,4,3,2,1])\n",
    "if len(sub_list)==len(weights):\n",
    "    weighted_list = [item for sublist, weight in zip(sub_list, weights) for item in [sublist] * weight]\n",
    "\n",
    "sub_ensemble=ensemble_mean(weighted_list,targets,mean=\"AM\")\n",
    "sub_ensemble.to_csv('submission_du2.csv',index=False)\n",
    "sub_ensemble.head()"
   ]
  }
 ],
 "metadata": {
  "kernelspec": {
   "display_name": "light_new",
   "language": "python",
   "name": "python3"
  },
  "language_info": {
   "codemirror_mode": {
    "name": "ipython",
    "version": 3
   },
   "file_extension": ".py",
   "mimetype": "text/x-python",
   "name": "python",
   "nbconvert_exporter": "python",
   "pygments_lexer": "ipython3",
   "version": "3.9.19"
  }
 },
 "nbformat": 4,
 "nbformat_minor": 2
}
