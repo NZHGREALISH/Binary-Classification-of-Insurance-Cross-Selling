{
 "cells": [
  {
   "cell_type": "code",
   "execution_count": 1,
   "id": "f00ed135-2c6b-45c8-8628-ef8c19c9e1f3",
   "metadata": {},
   "outputs": [],
   "source": [
    "from catboost import CatBoostClassifier, Pool\n",
    "from hyperopt import hp, tpe, fmin, Trials\n",
    "import numpy as np\n",
    "import pandas as pd\n",
    "import polars as pl\n",
    "from sklearn.metrics import roc_auc_score\n",
    "from sklearn.model_selection import train_test_split\n",
    "import warnings\n",
    "warnings.simplefilter('ignore')"
   ]
  },
  {
   "cell_type": "code",
   "execution_count": 2,
   "id": "0efd7a42-639c-4e29-b26a-853601bd92f8",
   "metadata": {},
   "outputs": [],
   "source": [
    "train = pl.read_csv('C:/Users/16010/Desktop/Deep learning from Scratch/kaggle-S4E7/data/train.csv')\n",
    "test = pl.read_csv('C:/Users/16010/Desktop/Deep learning from Scratch/kaggle-S4E7/data/test.csv')\n",
    "\n",
    "# 在测试集中添加 'Response' 列，值为 0，类型为 Int64\n",
    "test = test.with_columns(pl.lit(0).cast(pl.Int64).alias('Response'))"
   ]
  },
  {
   "cell_type": "code",
   "execution_count": 3,
   "id": "aa6e547e-479f-4b7e-89f2-e35e9946ce0d",
   "metadata": {},
   "outputs": [
    {
     "data": {
      "text/html": [
       "<div>\n",
       "<style scoped>\n",
       "    .dataframe tbody tr th:only-of-type {\n",
       "        vertical-align: middle;\n",
       "    }\n",
       "\n",
       "    .dataframe tbody tr th {\n",
       "        vertical-align: top;\n",
       "    }\n",
       "\n",
       "    .dataframe thead th {\n",
       "        text-align: right;\n",
       "    }\n",
       "</style>\n",
       "<table border=\"1\" class=\"dataframe\">\n",
       "  <thead>\n",
       "    <tr style=\"text-align: right;\">\n",
       "      <th></th>\n",
       "      <th>id</th>\n",
       "      <th>Gender</th>\n",
       "      <th>Age</th>\n",
       "      <th>Driving_License</th>\n",
       "      <th>Region_Code</th>\n",
       "      <th>Previously_Insured</th>\n",
       "      <th>Vehicle_Age</th>\n",
       "      <th>Vehicle_Damage</th>\n",
       "      <th>Annual_Premium</th>\n",
       "      <th>Policy_Sales_Channel</th>\n",
       "      <th>Vintage</th>\n",
       "      <th>Response</th>\n",
       "      <th>Previously_Insured_Annual_Premium</th>\n",
       "      <th>Previously_Insured_Vehicle_Age</th>\n",
       "      <th>Previously_Insured_Vehicle_Damage</th>\n",
       "      <th>Previously_Insured_Vintage</th>\n",
       "    </tr>\n",
       "  </thead>\n",
       "  <tbody>\n",
       "    <tr>\n",
       "      <th>0</th>\n",
       "      <td>0</td>\n",
       "      <td>0</td>\n",
       "      <td>21</td>\n",
       "      <td>1</td>\n",
       "      <td>35</td>\n",
       "      <td>0</td>\n",
       "      <td>1</td>\n",
       "      <td>1</td>\n",
       "      <td>65101</td>\n",
       "      <td>124</td>\n",
       "      <td>187</td>\n",
       "      <td>0</td>\n",
       "      <td>0</td>\n",
       "      <td>0</td>\n",
       "      <td>0</td>\n",
       "      <td>0</td>\n",
       "    </tr>\n",
       "    <tr>\n",
       "      <th>1</th>\n",
       "      <td>1</td>\n",
       "      <td>0</td>\n",
       "      <td>43</td>\n",
       "      <td>1</td>\n",
       "      <td>28</td>\n",
       "      <td>0</td>\n",
       "      <td>2</td>\n",
       "      <td>1</td>\n",
       "      <td>58911</td>\n",
       "      <td>26</td>\n",
       "      <td>288</td>\n",
       "      <td>1</td>\n",
       "      <td>1</td>\n",
       "      <td>1</td>\n",
       "      <td>0</td>\n",
       "      <td>1</td>\n",
       "    </tr>\n",
       "    <tr>\n",
       "      <th>2</th>\n",
       "      <td>2</td>\n",
       "      <td>1</td>\n",
       "      <td>25</td>\n",
       "      <td>1</td>\n",
       "      <td>14</td>\n",
       "      <td>1</td>\n",
       "      <td>0</td>\n",
       "      <td>0</td>\n",
       "      <td>38043</td>\n",
       "      <td>152</td>\n",
       "      <td>254</td>\n",
       "      <td>0</td>\n",
       "      <td>2</td>\n",
       "      <td>2</td>\n",
       "      <td>1</td>\n",
       "      <td>2</td>\n",
       "    </tr>\n",
       "    <tr>\n",
       "      <th>3</th>\n",
       "      <td>3</td>\n",
       "      <td>1</td>\n",
       "      <td>35</td>\n",
       "      <td>1</td>\n",
       "      <td>1</td>\n",
       "      <td>0</td>\n",
       "      <td>1</td>\n",
       "      <td>1</td>\n",
       "      <td>2630</td>\n",
       "      <td>156</td>\n",
       "      <td>76</td>\n",
       "      <td>0</td>\n",
       "      <td>3</td>\n",
       "      <td>0</td>\n",
       "      <td>0</td>\n",
       "      <td>3</td>\n",
       "    </tr>\n",
       "    <tr>\n",
       "      <th>4</th>\n",
       "      <td>4</td>\n",
       "      <td>1</td>\n",
       "      <td>36</td>\n",
       "      <td>1</td>\n",
       "      <td>15</td>\n",
       "      <td>1</td>\n",
       "      <td>1</td>\n",
       "      <td>0</td>\n",
       "      <td>31951</td>\n",
       "      <td>152</td>\n",
       "      <td>294</td>\n",
       "      <td>0</td>\n",
       "      <td>4</td>\n",
       "      <td>3</td>\n",
       "      <td>1</td>\n",
       "      <td>4</td>\n",
       "    </tr>\n",
       "    <tr>\n",
       "      <th>...</th>\n",
       "      <td>...</td>\n",
       "      <td>...</td>\n",
       "      <td>...</td>\n",
       "      <td>...</td>\n",
       "      <td>...</td>\n",
       "      <td>...</td>\n",
       "      <td>...</td>\n",
       "      <td>...</td>\n",
       "      <td>...</td>\n",
       "      <td>...</td>\n",
       "      <td>...</td>\n",
       "      <td>...</td>\n",
       "      <td>...</td>\n",
       "      <td>...</td>\n",
       "      <td>...</td>\n",
       "      <td>...</td>\n",
       "    </tr>\n",
       "    <tr>\n",
       "      <th>11504793</th>\n",
       "      <td>11504793</td>\n",
       "      <td>0</td>\n",
       "      <td>48</td>\n",
       "      <td>1</td>\n",
       "      <td>6</td>\n",
       "      <td>0</td>\n",
       "      <td>1</td>\n",
       "      <td>1</td>\n",
       "      <td>27412</td>\n",
       "      <td>26</td>\n",
       "      <td>218</td>\n",
       "      <td>0</td>\n",
       "      <td>5210</td>\n",
       "      <td>0</td>\n",
       "      <td>0</td>\n",
       "      <td>144</td>\n",
       "    </tr>\n",
       "    <tr>\n",
       "      <th>11504794</th>\n",
       "      <td>11504794</td>\n",
       "      <td>1</td>\n",
       "      <td>26</td>\n",
       "      <td>1</td>\n",
       "      <td>36</td>\n",
       "      <td>0</td>\n",
       "      <td>0</td>\n",
       "      <td>1</td>\n",
       "      <td>29509</td>\n",
       "      <td>152</td>\n",
       "      <td>115</td>\n",
       "      <td>1</td>\n",
       "      <td>23274</td>\n",
       "      <td>4</td>\n",
       "      <td>0</td>\n",
       "      <td>176</td>\n",
       "    </tr>\n",
       "    <tr>\n",
       "      <th>11504795</th>\n",
       "      <td>11504795</td>\n",
       "      <td>1</td>\n",
       "      <td>29</td>\n",
       "      <td>1</td>\n",
       "      <td>32</td>\n",
       "      <td>1</td>\n",
       "      <td>0</td>\n",
       "      <td>0</td>\n",
       "      <td>2630</td>\n",
       "      <td>152</td>\n",
       "      <td>189</td>\n",
       "      <td>0</td>\n",
       "      <td>18</td>\n",
       "      <td>2</td>\n",
       "      <td>1</td>\n",
       "      <td>456</td>\n",
       "    </tr>\n",
       "    <tr>\n",
       "      <th>11504796</th>\n",
       "      <td>11504796</td>\n",
       "      <td>1</td>\n",
       "      <td>51</td>\n",
       "      <td>1</td>\n",
       "      <td>28</td>\n",
       "      <td>0</td>\n",
       "      <td>1</td>\n",
       "      <td>1</td>\n",
       "      <td>48443</td>\n",
       "      <td>26</td>\n",
       "      <td>274</td>\n",
       "      <td>1</td>\n",
       "      <td>14121</td>\n",
       "      <td>0</td>\n",
       "      <td>0</td>\n",
       "      <td>124</td>\n",
       "    </tr>\n",
       "    <tr>\n",
       "      <th>11504797</th>\n",
       "      <td>11504797</td>\n",
       "      <td>0</td>\n",
       "      <td>25</td>\n",
       "      <td>1</td>\n",
       "      <td>28</td>\n",
       "      <td>1</td>\n",
       "      <td>0</td>\n",
       "      <td>0</td>\n",
       "      <td>32855</td>\n",
       "      <td>152</td>\n",
       "      <td>189</td>\n",
       "      <td>0</td>\n",
       "      <td>9978</td>\n",
       "      <td>2</td>\n",
       "      <td>1</td>\n",
       "      <td>456</td>\n",
       "    </tr>\n",
       "  </tbody>\n",
       "</table>\n",
       "<p>11504798 rows × 16 columns</p>\n",
       "</div>"
      ],
      "text/plain": [
       "                id  Gender  Age  Driving_License  Region_Code  \\\n",
       "0                0       0   21                1           35   \n",
       "1                1       0   43                1           28   \n",
       "2                2       1   25                1           14   \n",
       "3                3       1   35                1            1   \n",
       "4                4       1   36                1           15   \n",
       "...            ...     ...  ...              ...          ...   \n",
       "11504793  11504793       0   48                1            6   \n",
       "11504794  11504794       1   26                1           36   \n",
       "11504795  11504795       1   29                1           32   \n",
       "11504796  11504796       1   51                1           28   \n",
       "11504797  11504797       0   25                1           28   \n",
       "\n",
       "          Previously_Insured  Vehicle_Age  Vehicle_Damage  Annual_Premium  \\\n",
       "0                          0            1               1           65101   \n",
       "1                          0            2               1           58911   \n",
       "2                          1            0               0           38043   \n",
       "3                          0            1               1            2630   \n",
       "4                          1            1               0           31951   \n",
       "...                      ...          ...             ...             ...   \n",
       "11504793                   0            1               1           27412   \n",
       "11504794                   0            0               1           29509   \n",
       "11504795                   1            0               0            2630   \n",
       "11504796                   0            1               1           48443   \n",
       "11504797                   1            0               0           32855   \n",
       "\n",
       "          Policy_Sales_Channel  Vintage  Response  \\\n",
       "0                          124      187         0   \n",
       "1                           26      288         1   \n",
       "2                          152      254         0   \n",
       "3                          156       76         0   \n",
       "4                          152      294         0   \n",
       "...                        ...      ...       ...   \n",
       "11504793                    26      218         0   \n",
       "11504794                   152      115         1   \n",
       "11504795                   152      189         0   \n",
       "11504796                    26      274         1   \n",
       "11504797                   152      189         0   \n",
       "\n",
       "          Previously_Insured_Annual_Premium  Previously_Insured_Vehicle_Age  \\\n",
       "0                                         0                               0   \n",
       "1                                         1                               1   \n",
       "2                                         2                               2   \n",
       "3                                         3                               0   \n",
       "4                                         4                               3   \n",
       "...                                     ...                             ...   \n",
       "11504793                               5210                               0   \n",
       "11504794                              23274                               4   \n",
       "11504795                                 18                               2   \n",
       "11504796                              14121                               0   \n",
       "11504797                               9978                               2   \n",
       "\n",
       "          Previously_Insured_Vehicle_Damage  Previously_Insured_Vintage  \n",
       "0                                         0                           0  \n",
       "1                                         0                           1  \n",
       "2                                         1                           2  \n",
       "3                                         0                           3  \n",
       "4                                         1                           4  \n",
       "...                                     ...                         ...  \n",
       "11504793                                  0                         144  \n",
       "11504794                                  0                         176  \n",
       "11504795                                  1                         456  \n",
       "11504796                                  0                         124  \n",
       "11504797                                  1                         456  \n",
       "\n",
       "[11504798 rows x 16 columns]"
      ]
     },
     "execution_count": 3,
     "metadata": {},
     "output_type": "execute_result"
    }
   ],
   "source": [
    "df = pl.concat([train, test])\n",
    "\n",
    "df = df.with_columns([\n",
    "    pl.col('Gender').replace({'Male': 0, 'Female': 1}).cast(pl.Int32),\n",
    "    pl.col('Region_Code').cast(int),\n",
    "    pl.col('Vehicle_Age').replace({'< 1 Year': 0, '1-2 Year': 1, '> 2 Years': 2}).cast(pl.Int32),\n",
    "    pl.col('Vehicle_Damage').replace({'No': 0, 'Yes': 1}).cast(pl.Int32),\n",
    "    pl.col('Annual_Premium').cast(int),\n",
    "    pl.col('Policy_Sales_Channel').cast(int)\n",
    "])\n",
    "\n",
    "df = df.with_columns([\n",
    "    (pl.Series(pd.factorize((df['Previously_Insured'].cast(str) + df['Annual_Premium'].cast(str)).to_numpy())[0])).alias('Previously_Insured_Annual_Premium'),\n",
    "    (pl.Series(pd.factorize((df['Previously_Insured'].cast(str) + df['Vehicle_Age'].cast(str)).to_numpy())[0])).alias('Previously_Insured_Vehicle_Age'),\n",
    "    (pl.Series(pd.factorize((df['Previously_Insured'].cast(str) + df['Vehicle_Damage'].cast(str)).to_numpy())[0])).alias('Previously_Insured_Vehicle_Damage'),\n",
    "    (pl.Series(pd.factorize((df['Previously_Insured'].cast(str) + df['Vintage'].cast(str)).to_numpy())[0])).alias('Previously_Insured_Vintage')\n",
    "])\n",
    "\n",
    "train = df[:train.shape[0]].to_pandas()\n",
    "test = df[train.shape[0]:].to_pandas()\n",
    "\n",
    "train"
   ]
  },
  {
   "cell_type": "code",
   "execution_count": 4,
   "id": "a26964bd-860c-44f5-94ac-77a28a60941d",
   "metadata": {},
   "outputs": [
    {
     "data": {
      "text/plain": [
       "'使用 polars 库读取 CSV 数据。\\n合并训练集和测试集以便统一预处理。\\n对类别特征进行编码，如性别、地区代码、车辆年龄、车辆损坏情况等。\\n创建一些组合特征以增加模型的表达能力。\\n将预处理后的数据分割回训练集和测试集，并转换为 Pandas 数据框。\\nPreviously_Insured 和 Annual_Premium 的组合\\n\\n组合方式：将 Previously_Insured 和 Annual_Premium 转换为字符串形式后相加。\\n编码方式：使用 pd.factorize 对组合后的字符串进行编码。\\n生成新特征 Previously_Insured_Annual_Premium。\\nPreviously_Insured 和 Vehicle_Age 的组合\\n\\n组合方式：将 Previously_Insured 和 Vehicle_Age 转换为字符串形式后相加。\\n编码方式：使用 pd.factorize 对组合后的字符串进行编码。\\n生成新特征 Previously_Insured_Vehicle_Age。\\nPreviously_Insured 和 Vehicle_Damage 的组合\\n\\n组合方式：将 Previously_Insured 和 Vehicle_Damage 转换为字符串形式后相加。\\n编码方式：使用 pd.factorize 对组合后的字符串进行编码。\\n生成新特征 Previously_Insured_Vehicle_Damage。\\nPreviously_Insured 和 Vintage 的组合\\n\\n组合方式：将 Previously_Insured 和 Vintage 转换为字符串形式后相加。\\n编码方式：使用 pd.factorize 对组合后的字符串进行编码。\\n生成新特征 Previously_Insured_Vintage。\\n通过这种方式生成的组合特征，能够捕捉到原始特征之间的相互关系，提高模型的表达能力，从而提升模型的预测性能。'"
      ]
     },
     "execution_count": 4,
     "metadata": {},
     "output_type": "execute_result"
    }
   ],
   "source": [
    "'''使用 polars 库读取 CSV 数据。\n",
    "合并训练集和测试集以便统一预处理。\n",
    "对类别特征进行编码，如性别、地区代码、车辆年龄、车辆损坏情况等。\n",
    "创建一些组合特征以增加模型的表达能力。\n",
    "将预处理后的数据分割回训练集和测试集，并转换为 Pandas 数据框。\n",
    "Previously_Insured 和 Annual_Premium 的组合\n",
    "\n",
    "组合方式：将 Previously_Insured 和 Annual_Premium 转换为字符串形式后相加。\n",
    "编码方式：使用 pd.factorize 对组合后的字符串进行编码。\n",
    "生成新特征 Previously_Insured_Annual_Premium。\n",
    "Previously_Insured 和 Vehicle_Age 的组合\n",
    "\n",
    "组合方式：将 Previously_Insured 和 Vehicle_Age 转换为字符串形式后相加。\n",
    "编码方式：使用 pd.factorize 对组合后的字符串进行编码。\n",
    "生成新特征 Previously_Insured_Vehicle_Age。\n",
    "Previously_Insured 和 Vehicle_Damage 的组合\n",
    "\n",
    "组合方式：将 Previously_Insured 和 Vehicle_Damage 转换为字符串形式后相加。\n",
    "编码方式：使用 pd.factorize 对组合后的字符串进行编码。\n",
    "生成新特征 Previously_Insured_Vehicle_Damage。\n",
    "Previously_Insured 和 Vintage 的组合\n",
    "\n",
    "组合方式：将 Previously_Insured 和 Vintage 转换为字符串形式后相加。\n",
    "编码方式：使用 pd.factorize 对组合后的字符串进行编码。\n",
    "生成新特征 Previously_Insured_Vintage。\n",
    "通过这种方式生成的组合特征，能够捕捉到原始特征之间的相互关系，提高模型的表达能力，从而提升模型的预测性能。'''"
   ]
  },
  {
   "cell_type": "code",
   "execution_count": 5,
   "id": "e05e4ff6-6ae3-4570-80d8-8cb3b7e47b74",
   "metadata": {},
   "outputs": [
    {
     "data": {
      "text/plain": [
       "\"aucs = []\\npreds = []\\n\\nskf = StratifiedKFold(n_splits=5, shuffle=True, random_state=42)\\n\\nfor fold, (train_idx, valid_idx) in enumerate(skf.split(train, train['Response'])):\\n    print(f'### Fold {fold+1} Training ###')\\n\\n    X_train = train.loc[train_idx, [c for c in train.columns if c not in ['id', 'Response']]]\\n    y_train = train.loc[train_idx, 'Response']\\n    X_valid = train.loc[valid_idx, X_train.columns]\\n    y_valid = train.loc[valid_idx, 'Response']\\n    X_test = test[X_train.columns]\\n\\n    X_train_pool = Pool(X_train, y_train, cat_features=X_train.columns.values)\\n    X_valid_pool = Pool(X_valid, y_valid, cat_features=X_valid.columns.values)\\n    X_test_pool = Pool(X_test, cat_features=X_test.columns.values)\\n\\n    model = CatBoostClassifier(\\n        loss_function='Logloss',\\n        eval_metric='AUC',\\n        learning_rate=0.05,\\n        iterations=5000,\\n        depth=9,\\n        random_strength=0,\\n        l2_leaf_reg=0.5,\\n        task_type='GPU',\\n        devices='1:2:3:4:5:6',\\n        random_seed=42,\\n        verbose=False\\n    )\\n\\n    model.fit(X=X_train_pool, eval_set=X_valid_pool, verbose=1000, early_stopping_rounds=200)\\n\\n    pred_valid = model.predict_proba(X_valid_pool)[:, 1]\\n    preds.append(model.predict_proba(X_test_pool)[:, 1])\\n\\n    auc = roc_auc_score(y_valid, pred_valid)\\n    aucs.append(auc)\\n\\n    print(f'Fold {fold+1} AUC: {auc:.5f}\\n')\\n\\nprint(f'\\nOverall AUC: {np.mean(aucs):.5f} +/- {np.std(aucs):.5f}')\""
      ]
     },
     "execution_count": 5,
     "metadata": {},
     "output_type": "execute_result"
    }
   ],
   "source": [
    "'''aucs = []\n",
    "preds = []\n",
    "\n",
    "skf = StratifiedKFold(n_splits=5, shuffle=True, random_state=42)\n",
    "\n",
    "for fold, (train_idx, valid_idx) in enumerate(skf.split(train, train['Response'])):\n",
    "    print(f'### Fold {fold+1} Training ###')\n",
    "\n",
    "    X_train = train.loc[train_idx, [c for c in train.columns if c not in ['id', 'Response']]]\n",
    "    y_train = train.loc[train_idx, 'Response']\n",
    "    X_valid = train.loc[valid_idx, X_train.columns]\n",
    "    y_valid = train.loc[valid_idx, 'Response']\n",
    "    X_test = test[X_train.columns]\n",
    "\n",
    "    X_train_pool = Pool(X_train, y_train, cat_features=X_train.columns.values)\n",
    "    X_valid_pool = Pool(X_valid, y_valid, cat_features=X_valid.columns.values)\n",
    "    X_test_pool = Pool(X_test, cat_features=X_test.columns.values)\n",
    "\n",
    "    model = CatBoostClassifier(\n",
    "        loss_function='Logloss',\n",
    "        eval_metric='AUC',\n",
    "        learning_rate=0.05,\n",
    "        iterations=5000,\n",
    "        depth=9,\n",
    "        random_strength=0,\n",
    "        l2_leaf_reg=0.5,\n",
    "        task_type='GPU',\n",
    "        devices='1:2:3:4:5:6',\n",
    "        random_seed=42,\n",
    "        verbose=False\n",
    "    )\n",
    "\n",
    "    model.fit(X=X_train_pool, eval_set=X_valid_pool, verbose=1000, early_stopping_rounds=200)\n",
    "\n",
    "    pred_valid = model.predict_proba(X_valid_pool)[:, 1]\n",
    "    preds.append(model.predict_proba(X_test_pool)[:, 1])\n",
    "\n",
    "    auc = roc_auc_score(y_valid, pred_valid)\n",
    "    aucs.append(auc)\n",
    "\n",
    "    print(f'Fold {fold+1} AUC: {auc:.5f}\\n')\n",
    "\n",
    "print(f'\\nOverall AUC: {np.mean(aucs):.5f} +/- {np.std(aucs):.5f}')'''"
   ]
  },
  {
   "cell_type": "code",
   "execution_count": 6,
   "id": "f16fc129-456f-4ac0-8300-1561ead84b14",
   "metadata": {},
   "outputs": [
    {
     "data": {
      "text/plain": [
       "'使用 StratifiedKFold 进行5折交叉验证，以确保各折中类别比例相同。\\n在每一折中，分割训练和验证数据，并创建 CatBoost 数据池。\\n定义 CatBoostClassifier 模型，并设置参数如损失函数、评估指标、学习率、迭代次数、树深度等。\\n训练模型，并在验证集上评估模型性能（AUC）。\\n记录每折的预测结果和AUC值。'"
      ]
     },
     "execution_count": 6,
     "metadata": {},
     "output_type": "execute_result"
    }
   ],
   "source": [
    "'''使用 StratifiedKFold 进行5折交叉验证，以确保各折中类别比例相同。\n",
    "在每一折中，分割训练和验证数据，并创建 CatBoost 数据池。\n",
    "定义 CatBoostClassifier 模型，并设置参数如损失函数、评估指标、学习率、迭代次数、树深度等。\n",
    "训练模型，并在验证集上评估模型性能（AUC）。\n",
    "记录每折的预测结果和AUC值。'''"
   ]
  },
  {
   "cell_type": "code",
   "execution_count": 7,
   "id": "091a0028-d4a1-4cc5-830d-c234aea11f8e",
   "metadata": {},
   "outputs": [],
   "source": [
    "X = train.drop(['id', 'Response'], axis=1)\n",
    "y = train['Response']\n",
    "X_test = test.drop(['id', 'Response'], axis=1)"
   ]
  },
  {
   "cell_type": "code",
   "execution_count": 8,
   "id": "7ff89fa1-50d0-45fa-bc4e-d6438738b289",
   "metadata": {},
   "outputs": [],
   "source": [
    "# 定义超参数优化目标函数\n",
    "def hyperopt_objective(params):\n",
    "    X_train, X_valid, y_train, y_valid = train_test_split(X, y, test_size=0.2, random_state=42)\n",
    "    \n",
    "    train_pool = Pool(X_train, y_train, cat_features=X_train.columns.values)\n",
    "    valid_pool = Pool(X_valid, y_valid, cat_features=X_valid.columns.values)\n",
    "\n",
    "    model = CatBoostClassifier(\n",
    "        loss_function='Logloss',\n",
    "        eval_metric='AUC',\n",
    "        learning_rate=params['learning_rate'],\n",
    "        iterations=int(params['iterations']),\n",
    "        depth=int(params['depth']),\n",
    "        l2_leaf_reg=params['l2_leaf_reg'],\n",
    "        random_strength=params['random_strength'],\n",
    "        task_type='GPU',\n",
    "        devices='0',\n",
    "        random_seed=42,\n",
    "        verbose=False\n",
    "    )\n",
    "\n",
    "    model.fit(train_pool, eval_set=valid_pool, early_stopping_rounds=200, verbose=False)\n",
    "    y_pred = model.predict_proba(valid_pool)[:, 1]\n",
    "    auc = roc_auc_score(y_valid, y_pred)\n",
    "\n",
    "    return -auc\n",
    "\n",
    "# 定义参数空间\n",
    "param_space = {\n",
    "    'learning_rate': hp.uniform('learning_rate', 0.01, 0.1),\n",
    "    'iterations': hp.quniform('iterations', 4000, 6000, 200),\n",
    "    'depth': hp.quniform('depth', 8, 11, 1),\n",
    "    'l2_leaf_reg': hp.uniform('l2_leaf_reg', 0.1, 1),\n",
    "    'random_strength': hp.uniform('random_strength', 0, 1)\n",
    "}\n"
   ]
  },
  {
   "cell_type": "code",
   "execution_count": 9,
   "id": "c5620847-dae0-44ef-a94c-fc562da37550",
   "metadata": {},
   "outputs": [
    {
     "name": "stdout",
     "output_type": "stream",
     "text": [
      "  0%|                                                                                                                                              | 0/20 [00:00<?, ?trial/s, best loss=?]"
     ]
    },
    {
     "name": "stderr",
     "output_type": "stream",
     "text": [
      "Default metric period is 5 because AUC\n",
      " is/are not implemented for GPU\n",
      "\n"
     ]
    },
    {
     "name": "stdout",
     "output_type": "stream",
     "text": [
      "  5%|█████▌                                                                                                         | 1/20 [21:48<6:54:16, 1308.24s/trial, best loss: -0.8950924446423459]"
     ]
    },
    {
     "name": "stderr",
     "output_type": "stream",
     "text": [
      "Default metric period is 5 because AUC\n",
      " is/are not implemented for GPU\n",
      "\n"
     ]
    },
    {
     "name": "stdout",
     "output_type": "stream",
     "text": [
      " 10%|███████████                                                                                                    | 2/20 [45:37<6:53:45, 1379.19s/trial, best loss: -0.8951119947355725]"
     ]
    },
    {
     "name": "stderr",
     "output_type": "stream",
     "text": [
      "Default metric period is 5 because AUC\n",
      " is/are not implemented for GPU\n",
      "\n"
     ]
    },
    {
     "name": "stdout",
     "output_type": "stream",
     "text": [
      " 15%|████████████████▎                                                                                            | 3/20 [1:32:21<9:35:12, 2030.16s/trial, best loss: -0.8951509122554926]"
     ]
    },
    {
     "name": "stderr",
     "output_type": "stream",
     "text": [
      "Default metric period is 5 because AUC\n",
      " is/are not implemented for GPU\n",
      "\n"
     ]
    },
    {
     "name": "stdout",
     "output_type": "stream",
     "text": [
      " 20%|█████████████████████▊                                                                                       | 4/20 [2:22:02<10:41:28, 2405.56s/trial, best loss: -0.895310614255763]"
     ]
    },
    {
     "name": "stderr",
     "output_type": "stream",
     "text": [
      "Default metric period is 5 because AUC\n",
      " is/are not implemented for GPU\n",
      "\n"
     ]
    },
    {
     "name": "stdout",
     "output_type": "stream",
     "text": [
      " 25%|███████████████████████████▎                                                                                 | 5/20 [3:06:55<10:27:17, 2509.20s/trial, best loss: -0.895310614255763]"
     ]
    },
    {
     "name": "stderr",
     "output_type": "stream",
     "text": [
      "Default metric period is 5 because AUC\n",
      " is/are not implemented for GPU\n",
      "\n"
     ]
    },
    {
     "name": "stdout",
     "output_type": "stream",
     "text": [
      " 30%|████████████████████████████████▋                                                                            | 6/20 [3:55:18<10:16:39, 2642.83s/trial, best loss: -0.895310614255763]"
     ]
    },
    {
     "name": "stderr",
     "output_type": "stream",
     "text": [
      "Default metric period is 5 because AUC\n",
      " is/are not implemented for GPU\n",
      "\n"
     ]
    },
    {
     "name": "stdout",
     "output_type": "stream",
     "text": [
      " 35%|██████████████████████████████████████▌                                                                       | 7/20 [4:08:31<7:21:36, 2038.18s/trial, best loss: -0.895310614255763]"
     ]
    },
    {
     "name": "stderr",
     "output_type": "stream",
     "text": [
      "Default metric period is 5 because AUC\n",
      " is/are not implemented for GPU\n",
      "\n"
     ]
    },
    {
     "name": "stdout",
     "output_type": "stream",
     "text": [
      " 40%|███████████████████████████████████████████▌                                                                 | 8/20 [4:40:04<6:38:25, 1992.11s/trial, best loss: -0.8953288856657594]"
     ]
    },
    {
     "name": "stderr",
     "output_type": "stream",
     "text": [
      "Default metric period is 5 because AUC\n",
      " is/are not implemented for GPU\n",
      "\n"
     ]
    },
    {
     "name": "stdout",
     "output_type": "stream",
     "text": [
      " 45%|█████████████████████████████████████████████████                                                            | 9/20 [4:53:00<4:55:30, 1611.88s/trial, best loss: -0.8953288856657594]"
     ]
    },
    {
     "name": "stderr",
     "output_type": "stream",
     "text": [
      "Default metric period is 5 because AUC\n",
      " is/are not implemented for GPU\n",
      "\n"
     ]
    },
    {
     "name": "stdout",
     "output_type": "stream",
     "text": [
      " 50%|██████████████████████████████████████████████████████                                                      | 10/20 [5:19:30<4:27:31, 1605.13s/trial, best loss: -0.8953288856657594]"
     ]
    },
    {
     "name": "stderr",
     "output_type": "stream",
     "text": [
      "Default metric period is 5 because AUC\n",
      " is/are not implemented for GPU\n",
      "\n"
     ]
    },
    {
     "name": "stdout",
     "output_type": "stream",
     "text": [
      " 55%|███████████████████████████████████████████████████████████▍                                                | 11/20 [6:30:10<6:01:44, 2411.61s/trial, best loss: -0.8953288856657594]"
     ]
    },
    {
     "name": "stderr",
     "output_type": "stream",
     "text": [
      "Default metric period is 5 because AUC\n",
      " is/are not implemented for GPU\n",
      "\n"
     ]
    },
    {
     "name": "stdout",
     "output_type": "stream",
     "text": [
      " 60%|████████████████████████████████████████████████████████████████▊                                           | 12/20 [7:01:29<4:59:54, 2249.29s/trial, best loss: -0.8953288856657594]"
     ]
    },
    {
     "name": "stderr",
     "output_type": "stream",
     "text": [
      "Default metric period is 5 because AUC\n",
      " is/are not implemented for GPU\n",
      "\n"
     ]
    },
    {
     "name": "stdout",
     "output_type": "stream",
     "text": [
      " 65%|██████████████████████████████████████████████████████████████████████▏                                     | 13/20 [7:23:01<3:48:36, 1959.43s/trial, best loss: -0.8953288856657594]"
     ]
    },
    {
     "name": "stderr",
     "output_type": "stream",
     "text": [
      "Default metric period is 5 because AUC\n",
      " is/are not implemented for GPU\n",
      "\n"
     ]
    },
    {
     "name": "stdout",
     "output_type": "stream",
     "text": [
      " 70%|███████████████████████████████████████████████████████████████████████████▌                                | 14/20 [7:48:33<3:03:01, 1830.22s/trial, best loss: -0.8953288856657594]"
     ]
    },
    {
     "name": "stderr",
     "output_type": "stream",
     "text": [
      "Default metric period is 5 because AUC\n",
      " is/are not implemented for GPU\n",
      "\n"
     ]
    },
    {
     "name": "stdout",
     "output_type": "stream",
     "text": [
      " 75%|█████████████████████████████████████████████████████████████████████████████████                           | 15/20 [8:14:24<2:25:31, 1746.20s/trial, best loss: -0.8953288856657594]"
     ]
    },
    {
     "name": "stderr",
     "output_type": "stream",
     "text": [
      "Default metric period is 5 because AUC\n",
      " is/are not implemented for GPU\n",
      "\n"
     ]
    },
    {
     "name": "stdout",
     "output_type": "stream",
     "text": [
      " 80%|██████████████████████████████████████████████████████████████████████████████████████▍                     | 16/20 [8:24:46<1:33:51, 1407.88s/trial, best loss: -0.8953288856657594]"
     ]
    },
    {
     "name": "stderr",
     "output_type": "stream",
     "text": [
      "Default metric period is 5 because AUC\n",
      " is/are not implemented for GPU\n",
      "\n"
     ]
    },
    {
     "name": "stdout",
     "output_type": "stream",
     "text": [
      " 85%|███████████████████████████████████████████████████████████████████████████████████████████▊                | 17/20 [8:47:12<1:09:27, 1389.10s/trial, best loss: -0.8953288856657594]"
     ]
    },
    {
     "name": "stderr",
     "output_type": "stream",
     "text": [
      "Default metric period is 5 because AUC\n",
      " is/are not implemented for GPU\n",
      "\n"
     ]
    },
    {
     "name": "stdout",
     "output_type": "stream",
     "text": [
      " 90%|█████████████████████████████████████████████████████████████████████████████████████████████████▏          | 18/20 [9:41:18<1:04:54, 1947.13s/trial, best loss: -0.8953288856657594]"
     ]
    },
    {
     "name": "stderr",
     "output_type": "stream",
     "text": [
      "Default metric period is 5 because AUC\n",
      " is/are not implemented for GPU\n",
      "\n"
     ]
    },
    {
     "name": "stdout",
     "output_type": "stream",
     "text": [
      " 95%|███████████████████████████████████████████████████████████████████████████████████████████████████████▌     | 19/20 [10:03:03<29:14, 1754.33s/trial, best loss: -0.8953288856657594]"
     ]
    },
    {
     "name": "stderr",
     "output_type": "stream",
     "text": [
      "Default metric period is 5 because AUC\n",
      " is/are not implemented for GPU\n",
      "\n"
     ]
    },
    {
     "name": "stdout",
     "output_type": "stream",
     "text": [
      "100%|█████████████████████████████████████████████████████████████████████████████████████████████████████████████| 20/20 [10:30:22<00:00, 1891.12s/trial, best loss: -0.8953288856657594]\n",
      "Best parameters found:  {'depth': 8, 'iterations': 4600, 'l2_leaf_reg': 0.7732321956643607, 'learning_rate': 0.08470806691352324, 'random_strength': 0.06428686330954925}\n"
     ]
    }
   ],
   "source": [
    "# 使用 Hyperopt 进行超参数优化\n",
    "trials = Trials()\n",
    "best = fmin(\n",
    "    fn=hyperopt_objective,\n",
    "    space=param_space,\n",
    "    algo=tpe.suggest,\n",
    "    max_evals=20,\n",
    "    trials=trials,\n",
    "    rstate=np.random.default_rng(42)\n",
    ")\n",
    "\n",
    "# 转换超参数为整数\n",
    "best['iterations'] = int(best['iterations'])\n",
    "best['depth'] = int(best['depth'])\n",
    "print(\"Best parameters found: \", best)"
   ]
  },
  {
   "cell_type": "code",
   "execution_count": 10,
   "id": "4a601061-6121-446a-9b0a-cbec8ee60028",
   "metadata": {},
   "outputs": [
    {
     "name": "stderr",
     "output_type": "stream",
     "text": [
      "Default metric period is 5 because AUC is/are not implemented for GPU\n"
     ]
    },
    {
     "name": "stdout",
     "output_type": "stream",
     "text": [
      "0:\ttotal: 725ms\tremaining: 55m 32s\n",
      "1000:\ttotal: 10m 21s\tremaining: 37m 13s\n",
      "2000:\ttotal: 20m 40s\tremaining: 26m 51s\n",
      "3000:\ttotal: 31m 4s\tremaining: 16m 33s\n",
      "4000:\ttotal: 41m 30s\tremaining: 6m 12s\n",
      "4599:\ttotal: 47m 45s\tremaining: 0us\n"
     ]
    }
   ],
   "source": [
    "# 使用最佳参数训练最终模型并预测\n",
    "train_pool = Pool(X, y, cat_features=X.columns.values)\n",
    "test_pool = Pool(X_test, cat_features=X_test.columns.values)\n",
    "\n",
    "model = CatBoostClassifier(\n",
    "    loss_function='Logloss',\n",
    "    eval_metric='AUC',\n",
    "    learning_rate=best['learning_rate'],\n",
    "    iterations=best['iterations'],\n",
    "    depth=best['depth'],\n",
    "    random_strength=best['random_strength'],\n",
    "    l2_leaf_reg=best['l2_leaf_reg'],\n",
    "    task_type='GPU',\n",
    "    devices='0',\n",
    "    random_seed=42,\n",
    "    verbose=1000\n",
    ")\n",
    "\n",
    "model.fit(train_pool, verbose=1000)\n",
    "\n",
    "\n",
    "# 预测测试集\n",
    "test_preds = model.predict_proba(test_pool)[:, 1]"
   ]
  },
  {
   "cell_type": "code",
   "execution_count": 11,
   "id": "bd588863-c8d4-406c-a64b-ecb4c875b9c6",
   "metadata": {},
   "outputs": [
    {
     "data": {
      "text/html": [
       "<div>\n",
       "<style scoped>\n",
       "    .dataframe tbody tr th:only-of-type {\n",
       "        vertical-align: middle;\n",
       "    }\n",
       "\n",
       "    .dataframe tbody tr th {\n",
       "        vertical-align: top;\n",
       "    }\n",
       "\n",
       "    .dataframe thead th {\n",
       "        text-align: right;\n",
       "    }\n",
       "</style>\n",
       "<table border=\"1\" class=\"dataframe\">\n",
       "  <thead>\n",
       "    <tr style=\"text-align: right;\">\n",
       "      <th></th>\n",
       "      <th>id</th>\n",
       "      <th>Response</th>\n",
       "    </tr>\n",
       "  </thead>\n",
       "  <tbody>\n",
       "    <tr>\n",
       "      <th>0</th>\n",
       "      <td>11504798</td>\n",
       "      <td>0.005448</td>\n",
       "    </tr>\n",
       "    <tr>\n",
       "      <th>1</th>\n",
       "      <td>11504799</td>\n",
       "      <td>0.669330</td>\n",
       "    </tr>\n",
       "    <tr>\n",
       "      <th>2</th>\n",
       "      <td>11504800</td>\n",
       "      <td>0.249240</td>\n",
       "    </tr>\n",
       "    <tr>\n",
       "      <th>3</th>\n",
       "      <td>11504801</td>\n",
       "      <td>0.000071</td>\n",
       "    </tr>\n",
       "    <tr>\n",
       "      <th>4</th>\n",
       "      <td>11504802</td>\n",
       "      <td>0.215197</td>\n",
       "    </tr>\n",
       "    <tr>\n",
       "      <th>...</th>\n",
       "      <td>...</td>\n",
       "      <td>...</td>\n",
       "    </tr>\n",
       "    <tr>\n",
       "      <th>7669861</th>\n",
       "      <td>19174659</td>\n",
       "      <td>0.187353</td>\n",
       "    </tr>\n",
       "    <tr>\n",
       "      <th>7669862</th>\n",
       "      <td>19174660</td>\n",
       "      <td>0.000130</td>\n",
       "    </tr>\n",
       "    <tr>\n",
       "      <th>7669863</th>\n",
       "      <td>19174661</td>\n",
       "      <td>0.000458</td>\n",
       "    </tr>\n",
       "    <tr>\n",
       "      <th>7669864</th>\n",
       "      <td>19174662</td>\n",
       "      <td>0.558409</td>\n",
       "    </tr>\n",
       "    <tr>\n",
       "      <th>7669865</th>\n",
       "      <td>19174663</td>\n",
       "      <td>0.000061</td>\n",
       "    </tr>\n",
       "  </tbody>\n",
       "</table>\n",
       "<p>7669866 rows × 2 columns</p>\n",
       "</div>"
      ],
      "text/plain": [
       "               id  Response\n",
       "0        11504798  0.005448\n",
       "1        11504799  0.669330\n",
       "2        11504800  0.249240\n",
       "3        11504801  0.000071\n",
       "4        11504802  0.215197\n",
       "...           ...       ...\n",
       "7669861  19174659  0.187353\n",
       "7669862  19174660  0.000130\n",
       "7669863  19174661  0.000458\n",
       "7669864  19174662  0.558409\n",
       "7669865  19174663  0.000061\n",
       "\n",
       "[7669866 rows x 2 columns]"
      ]
     },
     "execution_count": 11,
     "metadata": {},
     "output_type": "execute_result"
    }
   ],
   "source": [
    "submission = test[['id']]\n",
    "submission['Response'] = test_preds\n",
    "submission.to_csv('C:/Users/16010/Desktop/Deep learning from Scratch/kaggle-S4E7/submission/submission.csv', index=False)\n",
    "submission"
   ]
  },
  {
   "cell_type": "code",
   "execution_count": null,
   "id": "9648afa3-505f-4cdc-a4a5-39eb41597bde",
   "metadata": {},
   "outputs": [],
   "source": []
  }
 ],
 "metadata": {
  "kernelspec": {
   "display_name": "Python 3 (ipykernel)",
   "language": "python",
   "name": "python3"
  },
  "language_info": {
   "codemirror_mode": {
    "name": "ipython",
    "version": 3
   },
   "file_extension": ".py",
   "mimetype": "text/x-python",
   "name": "python",
   "nbconvert_exporter": "python",
   "pygments_lexer": "ipython3",
   "version": "3.10.14"
  }
 },
 "nbformat": 4,
 "nbformat_minor": 5
}
