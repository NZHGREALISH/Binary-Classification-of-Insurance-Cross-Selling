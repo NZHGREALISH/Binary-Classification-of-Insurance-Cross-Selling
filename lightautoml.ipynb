{
 "cells": [
  {
   "cell_type": "code",
   "execution_count": 3,
   "metadata": {},
   "outputs": [
    {
     "name": "stdout",
     "output_type": "stream",
     "text": [
      "'nlp' extra dependecy package 'gensim' isn't installed. Look at README.md in repo 'LightAutoML' for installation instructions.\n",
      "'nlp' extra dependecy package 'nltk' isn't installed. Look at README.md in repo 'LightAutoML' for installation instructions.\n",
      "'nlp' extra dependecy package 'transformers' isn't installed. Look at README.md in repo 'LightAutoML' for installation instructions.\n",
      "'nlp' extra dependecy package 'gensim' isn't installed. Look at README.md in repo 'LightAutoML' for installation instructions.\n",
      "'nlp' extra dependecy package 'nltk' isn't installed. Look at README.md in repo 'LightAutoML' for installation instructions.\n",
      "'nlp' extra dependecy package 'transformers' isn't installed. Look at README.md in repo 'LightAutoML' for installation instructions.\n"
     ]
    },
    {
     "name": "stderr",
     "output_type": "stream",
     "text": [
      "/home/zhenghao/.conda/envs/light_new/lib/python3.9/site-packages/tqdm/auto.py:21: TqdmWarning: IProgress not found. Please update jupyter and ipywidgets. See https://ipywidgets.readthedocs.io/en/stable/user_install.html\n",
      "  from .autonotebook import tqdm as notebook_tqdm\n",
      "/home/zhenghao/.conda/envs/light_new/lib/python3.9/site-packages/lightautoml/ml_algo/dl_model.py:42: UserWarning: 'transformers' - package isn't installed\n",
      "  warnings.warn(\"'transformers' - package isn't installed\")\n",
      "/home/zhenghao/.conda/envs/light_new/lib/python3.9/site-packages/lightautoml/text/embed.py:22: UserWarning: 'transformers' - package isn't installed\n",
      "  warnings.warn(\"'transformers' - package isn't installed\")\n",
      "/home/zhenghao/.conda/envs/light_new/lib/python3.9/site-packages/lightautoml/text/dl_transformers.py:25: UserWarning: 'transformers' - package isn't installed\n",
      "  warnings.warn(\"'transformers' - package isn't installed\")\n"
     ]
    }
   ],
   "source": [
    "import numpy as np\n",
    "import pandas as pd\n",
    "import gc\n",
    "from sklearn.metrics import roc_auc_score\n",
    "from sklearn.model_selection import train_test_split\n",
    "\n",
    "# LightAutoML presets, task and report generation\n",
    "from lightautoml.automl.presets.tabular_presets import TabularAutoML\n",
    "from lightautoml.tasks import Task\n"
   ]
  },
  {
   "cell_type": "code",
   "execution_count": 4,
   "metadata": {},
   "outputs": [],
   "source": [
    "train = pd.read_csv('/home/zhenghao/kaggle/train.csv')"
   ]
  },
  {
   "cell_type": "code",
   "execution_count": 5,
   "metadata": {},
   "outputs": [],
   "source": [
    "X_train, X_val = train_test_split(train, test_size=0.2, random_state=42, shuffle=True, stratify=train.Response)"
   ]
  },
  {
   "cell_type": "code",
   "execution_count": 7,
   "metadata": {},
   "outputs": [
    {
     "name": "stdout",
     "output_type": "stream",
     "text": [
      "[14:00:45] Stdout logging level is DEBUG.\n",
      "[14:00:45] Task: binary\n",
      "\n",
      "[14:00:45] Start automl preset with listed constraints:\n",
      "[14:00:45] - time: 2160000.00 seconds\n",
      "[14:00:45] - CPU: 12 cores\n",
      "[14:00:45] - memory: 16 GB\n",
      "\n",
      "[14:00:45] \u001b[1mTrain data shape: (9203838, 12)\u001b[0m\n",
      "\n",
      "[14:00:59] Feats was rejected during automatic roles guess: []\n",
      "[14:01:00] Layer \u001b[1m1\u001b[0m train process start. Time left 2159985.63 secs\n",
      "[14:01:23] number of text features: 0 \n",
      "[14:01:23] number of categorical features: 8 \n",
      "[14:01:23] number of continuous features: 2 \n"
     ]
    },
    {
     "name": "stderr",
     "output_type": "stream",
     "text": [
      "train (loss=0.249259): 100%|██████████| 8988/8988 [02:48<00:00, 53.48it/s]\n",
      "val: 100%|██████████| 2248/2248 [00:23<00:00, 95.93it/s] \n"
     ]
    },
    {
     "name": "stdout",
     "output_type": "stream",
     "text": [
      "[14:04:38] Epoch: 0, train loss: 0.24925921857357025, val loss: 0.24456407129764557, val metric: 0.8908973169590448\n"
     ]
    },
    {
     "name": "stderr",
     "output_type": "stream",
     "text": [
      "train (loss=0.242945): 100%|██████████| 8988/8988 [02:47<00:00, 53.69it/s]\n",
      "val: 100%|██████████| 2248/2248 [00:23<00:00, 94.75it/s] \n"
     ]
    },
    {
     "name": "stdout",
     "output_type": "stream",
     "text": [
      "[14:07:51] Epoch: 1, train loss: 0.24294474720954895, val loss: 0.24324508011341095, val metric: 0.8918149902828341\n"
     ]
    },
    {
     "name": "stderr",
     "output_type": "stream",
     "text": [
      "train (loss=0.241192): 100%|██████████| 8988/8988 [02:48<00:00, 53.30it/s]\n",
      "val: 100%|██████████| 2248/2248 [00:24<00:00, 91.57it/s] \n"
     ]
    },
    {
     "name": "stdout",
     "output_type": "stream",
     "text": [
      "[14:11:06] Epoch: 2, train loss: 0.24119225144386292, val loss: 0.24284721910953522, val metric: 0.8921344672063678\n"
     ]
    },
    {
     "name": "stderr",
     "output_type": "stream",
     "text": [
      "train (loss=0.239569): 100%|██████████| 8988/8988 [02:48<00:00, 53.32it/s]\n",
      "val: 100%|██████████| 2248/2248 [00:24<00:00, 93.13it/s]\n"
     ]
    },
    {
     "name": "stdout",
     "output_type": "stream",
     "text": [
      "[14:14:21] Epoch: 3, train loss: 0.23956945538520813, val loss: 0.2429785132408142, val metric: 0.8920336993743323\n"
     ]
    },
    {
     "name": "stderr",
     "output_type": "stream",
     "text": [
      "train (loss=0.238211): 100%|██████████| 8988/8988 [02:51<00:00, 52.41it/s]\n",
      "val: 100%|██████████| 2248/2248 [00:23<00:00, 94.69it/s] \n"
     ]
    },
    {
     "name": "stdout",
     "output_type": "stream",
     "text": [
      "[14:17:38] Epoch: 4, train loss: 0.2382112294435501, val loss: 0.24312721192836761, val metric: 0.8918410049115594\n"
     ]
    },
    {
     "name": "stderr",
     "output_type": "stream",
     "text": [
      "val: 100%|██████████| 2248/2248 [00:23<00:00, 94.76it/s]\n"
     ]
    },
    {
     "name": "stdout",
     "output_type": "stream",
     "text": [
      "[14:18:03] Early stopping: val loss: 0.24261802434921265, val metric: 0.8923466688626919\n",
      "[14:18:03] \u001b[1mLvl_0_Pipe_0_Mod_0_TorchNN_denselight_0\u001b[0m fitting and predicting completed\n",
      "[14:18:03] Time left 2158962.23 secs\n",
      "\n",
      "[14:18:03] \u001b[1mLayer 1 training completed.\u001b[0m\n",
      "\n",
      "[14:18:03] \u001b[1mAutoml preset training completed in 1037.81 seconds\u001b[0m\n",
      "\n",
      "[14:18:03] Model description:\n",
      "Final prediction for new objects (level 0) = \n",
      "\t 1.00000 * (1 averaged models Lvl_0_Pipe_0_Mod_0_TorchNN_denselight_0) \n",
      "\n"
     ]
    }
   ],
   "source": [
    "task = Task('binary') #‘binary’ \n",
    "automl = TabularAutoML(\n",
    "    task = task, \n",
    "    timeout = 600 * 3600,\n",
    "    cpu_limit = 12,\n",
    "    gpu_ids = '0',\n",
    "    general_params = {\"use_algos\": [['denselight']]},\n",
    "    nn_params = {\n",
    "        \"n_epochs\": 10, \n",
    "        \"bs\": 1024, \n",
    "        \"num_workers\": 2, \n",
    "        \"path_to_save\": None, \n",
    "        \"freeze_defaults\": True,\n",
    "        \"cont_embedder\": 'plr',\n",
    "        'cat_embedder': 'weighted',\n",
    "        'act_fun': 'SiLU',\n",
    "        \"hidden_size\": [512, 128], #32,\n",
    "        'stop_by_metric': True,\n",
    "        'embedding_size': 32,\n",
    "        'verbose_bar': True,\n",
    "        \"snap_params\": { 'k': 2, 'early_stopping': True, 'patience': 1, 'swa': True }, \n",
    "        'opt_params': { 'lr': 0.0003 , 'weight_decay': 0 }\n",
    "    },\n",
    "    nn_pipeline_params = {\"use_qnt\": True, \"use_te\": False},\n",
    "    reader_params = {'n_jobs': 12, 'cv': 5, 'random_state': 42, 'advanced_roles': True}\n",
    ")\n",
    "\n",
    "out_of_fold_predictions = automl.fit_predict(\n",
    "    X_train, valid_data=X_val,\n",
    "    roles = {\n",
    "        'target': 'Response',\n",
    "        'drop': ['id'],\n",
    "    }, \n",
    "    verbose = 4\n",
    ")"
   ]
  },
  {
   "cell_type": "code",
   "execution_count": 8,
   "metadata": {},
   "outputs": [
    {
     "data": {
      "text/plain": [
       "0"
      ]
     },
     "execution_count": 8,
     "metadata": {},
     "output_type": "execute_result"
    }
   ],
   "source": [
    "del train, X_train, X_val\n",
    "gc.collect()"
   ]
  },
  {
   "cell_type": "code",
   "execution_count": 9,
   "metadata": {},
   "outputs": [],
   "source": [
    "test = pd.read_csv('/home/zhenghao/kaggle/test.csv')\n",
    "ss = pd.read_csv('/home/zhenghao/kaggle/sample_submission.csv')"
   ]
  },
  {
   "cell_type": "code",
   "execution_count": 10,
   "metadata": {},
   "outputs": [
    {
     "name": "stderr",
     "output_type": "stream",
     "text": [
      "test: 100%|██████████| 7491/7491 [00:47<00:00, 157.30it/s]\n"
     ]
    },
    {
     "data": {
      "text/html": [
       "<div>\n",
       "<style scoped>\n",
       "    .dataframe tbody tr th:only-of-type {\n",
       "        vertical-align: middle;\n",
       "    }\n",
       "\n",
       "    .dataframe tbody tr th {\n",
       "        vertical-align: top;\n",
       "    }\n",
       "\n",
       "    .dataframe thead th {\n",
       "        text-align: right;\n",
       "    }\n",
       "</style>\n",
       "<table border=\"1\" class=\"dataframe\">\n",
       "  <thead>\n",
       "    <tr style=\"text-align: right;\">\n",
       "      <th></th>\n",
       "      <th>id</th>\n",
       "      <th>Response</th>\n",
       "    </tr>\n",
       "  </thead>\n",
       "  <tbody>\n",
       "    <tr>\n",
       "      <th>0</th>\n",
       "      <td>11504798</td>\n",
       "      <td>0.003658</td>\n",
       "    </tr>\n",
       "    <tr>\n",
       "      <th>1</th>\n",
       "      <td>11504799</td>\n",
       "      <td>0.672376</td>\n",
       "    </tr>\n",
       "    <tr>\n",
       "      <th>2</th>\n",
       "      <td>11504800</td>\n",
       "      <td>0.228664</td>\n",
       "    </tr>\n",
       "    <tr>\n",
       "      <th>3</th>\n",
       "      <td>11504801</td>\n",
       "      <td>0.000038</td>\n",
       "    </tr>\n",
       "    <tr>\n",
       "      <th>4</th>\n",
       "      <td>11504802</td>\n",
       "      <td>0.144176</td>\n",
       "    </tr>\n",
       "    <tr>\n",
       "      <th>...</th>\n",
       "      <td>...</td>\n",
       "      <td>...</td>\n",
       "    </tr>\n",
       "    <tr>\n",
       "      <th>7669861</th>\n",
       "      <td>19174659</td>\n",
       "      <td>0.240385</td>\n",
       "    </tr>\n",
       "    <tr>\n",
       "      <th>7669862</th>\n",
       "      <td>19174660</td>\n",
       "      <td>0.000112</td>\n",
       "    </tr>\n",
       "    <tr>\n",
       "      <th>7669863</th>\n",
       "      <td>19174661</td>\n",
       "      <td>0.000143</td>\n",
       "    </tr>\n",
       "    <tr>\n",
       "      <th>7669864</th>\n",
       "      <td>19174662</td>\n",
       "      <td>0.669437</td>\n",
       "    </tr>\n",
       "    <tr>\n",
       "      <th>7669865</th>\n",
       "      <td>19174663</td>\n",
       "      <td>0.000049</td>\n",
       "    </tr>\n",
       "  </tbody>\n",
       "</table>\n",
       "<p>7669866 rows × 2 columns</p>\n",
       "</div>"
      ],
      "text/plain": [
       "               id  Response\n",
       "0        11504798  0.003658\n",
       "1        11504799  0.672376\n",
       "2        11504800  0.228664\n",
       "3        11504801  0.000038\n",
       "4        11504802  0.144176\n",
       "...           ...       ...\n",
       "7669861  19174659  0.240385\n",
       "7669862  19174660  0.000112\n",
       "7669863  19174661  0.000143\n",
       "7669864  19174662  0.669437\n",
       "7669865  19174663  0.000049\n",
       "\n",
       "[7669866 rows x 2 columns]"
      ]
     },
     "execution_count": 10,
     "metadata": {},
     "output_type": "execute_result"
    }
   ],
   "source": [
    "pred = automl.predict(test).data[:,  0]\n",
    "\n",
    "ss.Response = pred\n",
    "ss.to_csv('LightAutoML_denselight_1fold.csv', index=None)\n",
    "ss"
   ]
  }
 ],
 "metadata": {
  "kernelspec": {
   "display_name": "light",
   "language": "python",
   "name": "python3"
  },
  "language_info": {
   "codemirror_mode": {
    "name": "ipython",
    "version": 3
   },
   "file_extension": ".py",
   "mimetype": "text/x-python",
   "name": "python",
   "nbconvert_exporter": "python",
   "pygments_lexer": "ipython3",
   "version": "3.9.19"
  }
 },
 "nbformat": 4,
 "nbformat_minor": 2
}
