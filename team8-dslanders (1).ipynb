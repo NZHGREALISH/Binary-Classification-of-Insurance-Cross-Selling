{
 "cells": [
  {
   "cell_type": "markdown",
   "metadata": {},
   "source": [
    "# Import Libraries"
   ]
  },
  {
   "cell_type": "code",
   "execution_count": 16,
   "metadata": {},
   "outputs": [],
   "source": [
    "import numpy as np\n",
    "import pandas as pd\n",
    "import matplotlib.pyplot as plt\n",
    "\n",
    "from sklearn.metrics import roc_auc_score\n",
    "from sklearn.preprocessing import LabelEncoder\n",
    "from sklearn.model_selection import train_test_split, StratifiedKFold\n",
    "\n",
    "from catboost import CatBoostClassifier, Pool"
   ]
  },
  {
   "cell_type": "code",
   "execution_count": 17,
   "metadata": {},
   "outputs": [],
   "source": [
    "trainset = pd.read_csv('C:/Users/16010/Desktop/Deep learning from Scratch/kaggle-S4E7/data/train.csv').drop('id', axis=1)\n",
    "testset = pd.read_csv('C:/Users/16010/Desktop/Deep learning from Scratch/kaggle-S4E7/data/test.csv').drop('id', axis=1)"
   ]
  },
  {
   "cell_type": "code",
   "execution_count": 18,
   "metadata": {},
   "outputs": [],
   "source": [
    "cat_cols = [col for col in trainset.columns if trainset[col].dtype=='object']\n",
    "num_cols = [col for col in trainset.columns if col not in cat_cols]"
   ]
  },
  {
   "cell_type": "code",
   "execution_count": 19,
   "metadata": {},
   "outputs": [],
   "source": [
    "trainset['Annual_Premium'] = trainset['Annual_Premium'].astype('int32')\n",
    "num_cols.pop(num_cols.index('Annual_Premium'))\n",
    "trainset[num_cols] = trainset[num_cols].astype('int16')"
   ]
  },
  {
   "cell_type": "code",
   "execution_count": 20,
   "metadata": {},
   "outputs": [],
   "source": [
    "#Concatenate train and test dataframes\n",
    "df = pd.concat([trainset, testset])\n",
    "\n",
    "categorical_features = ['Gender','Vehicle_Age','Vehicle_Damage']\n",
    "\n",
    "#Label encode categorical features\n",
    "for col in categorical_features:\n",
    "    le = LabelEncoder()\n",
    "    df[col] = le.fit_transform(df[col].astype(str))\n",
    "\n",
    "df[\"Vehicle_Age\"] = df[\"Vehicle_Age\"].astype('int8')\n",
    "df['Gender'] = df['Gender'].astype('int8')\n",
    "df['Vehicle_Damage'] = df['Vehicle_Damage'].astype('int8')\n",
    "df['Age'] = df['Age'].astype('int8')\n",
    "df['Driving_License'] = df['Driving_License'].astype('int8')\n",
    "df['Region_Code'] = df['Region_Code'].astype('int8')\n",
    "df['Previously_Insured'] = df['Previously_Insured'].astype('int8')\n",
    "df['Annual_Premium'] = df['Annual_Premium'].astype('int32')\n",
    "df['Policy_Sales_Channel'] = df['Policy_Sales_Channel'].astype('int16')\n",
    "df['Vintage'] = df['Vintage'].astype('int16')\n",
    "\n",
    "# Create the new features by factorizing the concatenated string columns\n",
    "df['Previously_Insured_Annual_Premium'] = (pd.factorize((df['Previously_Insured'].astype(str) + df['Annual_Premium'].astype(str)).to_numpy())[0]).astype('int32')\n",
    "df['Previously_Insured_Vehicle_Age'] = (pd.factorize((df['Previously_Insured'].astype(str) + df['Vehicle_Age'].astype(str)).to_numpy())[0]).astype('int8')\n",
    "df['Previously_Insured_Vehicle_Damage'] = (pd.factorize((df['Previously_Insured'].astype(str) + df['Vehicle_Damage'].astype(str)).to_numpy())[0]).astype('int8')\n",
    "df['Previously_Insured_Vintage'] = (pd.factorize((df['Previously_Insured'].astype(str) + df['Vintage'].astype(str)).to_numpy())[0]).astype('int16')\n",
    "\n",
    "# Split the combined dataframe back into train and test\n",
    "trainset = df.iloc[:trainset.shape[0]].reset_index(drop=True)\n",
    "testset = df.iloc[trainset.shape[0]:].reset_index(drop=True)\n",
    "\n",
    "del df"
   ]
  },
  {
   "cell_type": "code",
   "execution_count": 21,
   "metadata": {},
   "outputs": [],
   "source": [
    "# trainset.info()"
   ]
  },
  {
   "cell_type": "code",
   "execution_count": 22,
   "metadata": {},
   "outputs": [],
   "source": [
    "X = trainset.drop('Response', axis=1)\n",
    "y = trainset['Response']"
   ]
  },
  {
   "cell_type": "code",
   "execution_count": 23,
   "metadata": {},
   "outputs": [],
   "source": [
    "# testset = pd.read_csv(\"/kaggle/input/playground-series-s4e7/test.csv\").drop('id', axis=1)\n",
    "testset['Annual_Premium'] = testset['Annual_Premium'].astype('int32')\n",
    "num_cols.pop(num_cols.index('Response'))\n",
    "testset[num_cols] = testset[num_cols].astype('int16')"
   ]
  },
  {
   "cell_type": "code",
   "execution_count": 24,
   "metadata": {},
   "outputs": [],
   "source": [
    "# testset.info()"
   ]
  },
  {
   "cell_type": "code",
   "execution_count": null,
   "metadata": {},
   "outputs": [
    {
     "name": "stderr",
     "output_type": "stream",
     "text": [
      "Default metric period is 5 because AUC is/are not implemented for GPU\n"
     ]
    },
    {
     "name": "stdout",
     "output_type": "stream",
     "text": [
      "0:\ttest: 0.8757758\tbest: 0.8757758 (0)\ttotal: 673ms\tremaining: 18h 41m 28s\n",
      "1000:\ttest: 0.8950536\tbest: 0.8950536 (1000)\ttotal: 9m 33s\tremaining: 15h 45m 26s\n"
     ]
    }
   ],
   "source": [
    "skf = StratifiedKFold(n_splits=5, shuffle=True, random_state=42)\n",
    "test_preds = []\n",
    "fold_roc_auc = []\n",
    "val_preds=pd.DataFrame(columns=['index', 'true', 'pred'])\n",
    "\n",
    "for train_idx, val_idx in skf.split(X, y):\n",
    "    X_tr, X_val = X.iloc[train_idx], X.iloc[val_idx]\n",
    "    y_tr, y_val = y[train_idx], y[val_idx]\n",
    "    \n",
    "    X_tr_pool = Pool(X_tr, y_tr, cat_features=X.columns.values)\n",
    "    X_val_pool = Pool(X_val, y_val, cat_features=X.columns.values)\n",
    "    X_test_pool = Pool(testset, cat_features=X.columns.values)\n",
    "\n",
    "    cat_params = {\n",
    "    'loss_function': 'Logloss',\n",
    "    'eval_metric': 'AUC',\n",
    "    'class_names': [0, 1],\n",
    "    'learning_rate': 0.075,\n",
    "    'iterations': 100000,\n",
    "    'depth': 9,\n",
    "    'random_strength': 0,\n",
    "    'l2_leaf_reg': 0.5,\n",
    "    'max_leaves': 512,\n",
    "    'fold_permutation_block': 64,\n",
    "    'task_type': 'GPU',\n",
    "    'random_seed': 42,\n",
    "    'verbose': False,\n",
    "    'allow_writing_files': False\n",
    "}\n",
    "    \n",
    "    model = CatBoostClassifier(**cat_params)\n",
    "    model.fit(X=X_tr_pool, eval_set=X_val_pool, verbose=1000, early_stopping_rounds=200)\n",
    "    y_pred = model.predict(X_val_pool)\n",
    "    fold_preds = pd.DataFrame({'index': val_idx, 'true': y_val, 'pred': y_pred})\n",
    "    val_preds = pd.concat([val_preds, fold_preds], ignore_index=True)\n",
    "    \n",
    "    y_pred = model.predict_proba(X_val_pool)[:, 1]\n",
    "    fold_roc_auc.append(roc_auc_score(y_val, y_pred))\n",
    "    test_preds.append(model.predict_proba(X_test_pool)[:, 1])"
   ]
  },
  {
   "cell_type": "code",
   "execution_count": null,
   "metadata": {},
   "outputs": [],
   "source": [
    "false_preds = val_preds[val_preds['true'] != val_preds['pred']]\n",
    "false_indices = false_preds['index'].values\n",
    "false_rows = X.iloc[false_indices]\n",
    "\n",
    "false_rows_with_info = false_rows.copy()\n",
    "false_rows_with_info['true'] = false_preds['true'].values\n",
    "false_rows_with_info['pred'] = false_preds['pred'].values"
   ]
  },
  {
   "cell_type": "code",
   "execution_count": null,
   "metadata": {},
   "outputs": [],
   "source": [
    "final_roc_auc = np.mean(fold_roc_auc)\n",
    "print(final_roc_auc)"
   ]
  },
  {
   "cell_type": "code",
   "execution_count": null,
   "metadata": {},
   "outputs": [],
   "source": [
    "blend1 = pd.read_csv('/kaggle/input/s04e07-insurance-cross-selling-stacking/sub_stacking_0.89521.csv')\n",
    "blend2 = pd.read_parquet('/kaggle/input/stacking-xgb-lgbm-catb-ann/submission.parquet')\n",
    "sub = pd.read_csv(\"/kaggle/input/playground-series-s4e7/sample_submission.csv\")\n",
    "sub['Response'] = np.mean(test_preds, axis=0)\n",
    "sub['Response'] = np.mean([blend['Response'], sub['Response']], axis=0)\n",
    "sub.to_csv('submission.csv', index=False)\n",
    "\n",
    "blend1['Response'] = np.mean([blend1['Response'], blend2['Response']], axis=0)\n",
    "blend1.to_csv('submission.csv', index=False)"
   ]
  }
 ],
 "metadata": {
  "kaggle": {
   "accelerator": "nvidiaTeslaT4",
   "dataSources": [
    {
     "databundleVersionId": 8930475,
     "sourceId": 73291,
     "sourceType": "competition"
    },
    {
     "sourceId": 189269711,
     "sourceType": "kernelVersion"
    },
    {
     "sourceId": 189390714,
     "sourceType": "kernelVersion"
    },
    {
     "sourceId": 190162182,
     "sourceType": "kernelVersion"
    }
   ],
   "dockerImageVersionId": 30732,
   "isGpuEnabled": true,
   "isInternetEnabled": false,
   "language": "python",
   "sourceType": "notebook"
  },
  "kernelspec": {
   "display_name": "Python 3 (ipykernel)",
   "language": "python",
   "name": "python3"
  },
  "language_info": {
   "codemirror_mode": {
    "name": "ipython",
    "version": 3
   },
   "file_extension": ".py",
   "mimetype": "text/x-python",
   "name": "python",
   "nbconvert_exporter": "python",
   "pygments_lexer": "ipython3",
   "version": "3.10.14"
  }
 },
 "nbformat": 4,
 "nbformat_minor": 4
}
